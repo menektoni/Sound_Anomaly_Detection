{
 "cells": [
  {
   "cell_type": "markdown",
   "metadata": {},
   "source": [
    "# MIMII Prepearation of Audios"
   ]
  },
  {
   "cell_type": "markdown",
   "metadata": {},
   "source": [
    "### This program is excatly the same as the general one but for the codification of audios. The only difference is that this one starts the codification in number 50, to create a consistent codification with the ESC-50 dataset."
   ]
  },
  {
   "cell_type": "markdown",
   "metadata": {},
   "source": [
    "This program gets audio files from different directories and saves them all into the same directory. It also changes file's names in order to have a good codification of where each sound comes from. In order to use this programm it's necessary to store the files in different folder so they are grouped by their category, it's also important to name every directory as the category of the audios that are inside it. You also need to store all this folder into another folder called AUDIO_FOLDERS. The programm will create a new folder called ALL_AUDIOS with the renamed audios and it also will create \"codification.csv\", a dataframe with the codification used when renaming the audios."
   ]
  },
  {
   "cell_type": "markdown",
   "metadata": {},
   "source": [
    "WARNING: This programm does not open the audios, so modifications such as cutting them must be done in other programms."
   ]
  },
  {
   "cell_type": "markdown",
   "metadata": {},
   "source": [
    "First we import the packages that will be needed:"
   ]
  },
  {
   "cell_type": "code",
   "execution_count": 19,
   "metadata": {},
   "outputs": [],
   "source": [
    "import numpy as np\n",
    "import pandas as pd\n",
    "\n",
    "import librosa\n",
    "\n",
    "import librosa.display\n",
    "import matplotlib.pyplot as plt\n",
    "\n",
    "import os\n",
    "import re\n",
    "import shutil"
   ]
  },
  {
   "cell_type": "markdown",
   "metadata": {},
   "source": [
    "Secondly we define the constants, that must be introduced through the terminal: CAL ARREGLAR TERMINAL\n"
   ]
  },
  {
   "cell_type": "code",
   "execution_count": 20,
   "metadata": {},
   "outputs": [],
   "source": [
    "#Write your path to AUDIO_FOLDERS here\n",
    "DIRECTORY = '/home/belen_alastruey/PYTHON/SoundDatabase/MIMII/AUDIO_FOLDERS/'"
   ]
  },
  {
   "cell_type": "markdown",
   "metadata": {},
   "source": [
    "Now we define the function rename_and_save, that renames the audios acording to the codification in a dataset (that we will create in the following lines) and stores them in a new directory."
   ]
  },
  {
   "cell_type": "code",
   "execution_count": 21,
   "metadata": {},
   "outputs": [],
   "source": [
    "def rename_and_save(dictionary):\n",
    "    os.mkdir(DIRECTORY + 'ALL_AUDIOS')\n",
    "    for i in dictionary:\n",
    "        list_files = os.listdir(str(dictionary[i]))\n",
    "        n = 0\n",
    "        CODE = df['code_id'].loc[df['category']== str(i)].to_string(index=False)\n",
    "        for audio in list_files:\n",
    "            src_dir = dictionary[i] + '/'+ audio\n",
    "            dst_dir = DIRECTORY + 'ALL_AUDIOS/'+ str(n) + '-' +CODE+'.wav'\n",
    "            shutil.copy(src_dir,dst_dir)\n",
    "            n = n +1"
   ]
  },
  {
   "cell_type": "markdown",
   "metadata": {},
   "source": [
    "Once the functions are defined, we proceed to start the main part of the programm, first we create a list with the names of the folders where our audios are, and then we create a list with the paths to theese folders."
   ]
  },
  {
   "cell_type": "code",
   "execution_count": 31,
   "metadata": {},
   "outputs": [
    {
     "data": {
      "text/plain": [
       "['.ipynb_checkpoints',\n",
       " 'valve00',\n",
       " 'slider02',\n",
       " 'pump06',\n",
       " 'slider06',\n",
       " 'valve04',\n",
       " 'pump00',\n",
       " 'fan00',\n",
       " 'slider04',\n",
       " 'slider00',\n",
       " 'valve06',\n",
       " 'pump02',\n",
       " 'fan02',\n",
       " 'fan04',\n",
       " 'ALL_AUDIOS',\n",
       " 'pump04',\n",
       " 'fan06',\n",
       " 'valve02']"
      ]
     },
     "execution_count": 31,
     "metadata": {},
     "output_type": "execute_result"
    }
   ],
   "source": [
    "l = [x[1] for x in os.walk(DIRECTORY)]\n",
    "folders = l[0]\n",
    "folders"
   ]
  },
  {
   "cell_type": "code",
   "execution_count": 23,
   "metadata": {},
   "outputs": [
    {
     "name": "stdout",
     "output_type": "stream",
     "text": [
      "['/home/belen_alastruey/PYTHON/SoundDatabase/MIMII/AUDIO_FOLDERS/.ipynb_checkpoints', '/home/belen_alastruey/PYTHON/SoundDatabase/MIMII/AUDIO_FOLDERS/valve00', '/home/belen_alastruey/PYTHON/SoundDatabase/MIMII/AUDIO_FOLDERS/slider02', '/home/belen_alastruey/PYTHON/SoundDatabase/MIMII/AUDIO_FOLDERS/pump06', '/home/belen_alastruey/PYTHON/SoundDatabase/MIMII/AUDIO_FOLDERS/slider06', '/home/belen_alastruey/PYTHON/SoundDatabase/MIMII/AUDIO_FOLDERS/valve04', '/home/belen_alastruey/PYTHON/SoundDatabase/MIMII/AUDIO_FOLDERS/pump00', '/home/belen_alastruey/PYTHON/SoundDatabase/MIMII/AUDIO_FOLDERS/fan00', '/home/belen_alastruey/PYTHON/SoundDatabase/MIMII/AUDIO_FOLDERS/slider04', '/home/belen_alastruey/PYTHON/SoundDatabase/MIMII/AUDIO_FOLDERS/slider00', '/home/belen_alastruey/PYTHON/SoundDatabase/MIMII/AUDIO_FOLDERS/valve06', '/home/belen_alastruey/PYTHON/SoundDatabase/MIMII/AUDIO_FOLDERS/pump02', '/home/belen_alastruey/PYTHON/SoundDatabase/MIMII/AUDIO_FOLDERS/fan02', '/home/belen_alastruey/PYTHON/SoundDatabase/MIMII/AUDIO_FOLDERS/fan04', '/home/belen_alastruey/PYTHON/SoundDatabase/MIMII/AUDIO_FOLDERS/pump04', '/home/belen_alastruey/PYTHON/SoundDatabase/MIMII/AUDIO_FOLDERS/fan06', '/home/belen_alastruey/PYTHON/SoundDatabase/MIMII/AUDIO_FOLDERS/valve02']\n"
     ]
    }
   ],
   "source": [
    "paths = [x[0] for x in os.walk(DIRECTORY)]\n",
    "\n",
    "paths.remove(paths[0])\n",
    "print(paths)"
   ]
  },
  {
   "cell_type": "markdown",
   "metadata": {},
   "source": [
    "Now a dataframe is created with the name of the catagories (or the name of the directories, sinche they must be the same)."
   ]
  },
  {
   "cell_type": "code",
   "execution_count": 30,
   "metadata": {},
   "outputs": [
    {
     "data": {
      "text/html": [
       "<div>\n",
       "<style scoped>\n",
       "    .dataframe tbody tr th:only-of-type {\n",
       "        vertical-align: middle;\n",
       "    }\n",
       "\n",
       "    .dataframe tbody tr th {\n",
       "        vertical-align: top;\n",
       "    }\n",
       "\n",
       "    .dataframe thead th {\n",
       "        text-align: right;\n",
       "    }\n",
       "</style>\n",
       "<table border=\"1\" class=\"dataframe\">\n",
       "  <thead>\n",
       "    <tr style=\"text-align: right;\">\n",
       "      <th></th>\n",
       "      <th>code_id</th>\n",
       "      <th>category</th>\n",
       "    </tr>\n",
       "  </thead>\n",
       "  <tbody>\n",
       "    <tr>\n",
       "      <th>0</th>\n",
       "      <td>50</td>\n",
       "      <td>.ipynb_checkpoints</td>\n",
       "    </tr>\n",
       "    <tr>\n",
       "      <th>1</th>\n",
       "      <td>51</td>\n",
       "      <td>valve00</td>\n",
       "    </tr>\n",
       "    <tr>\n",
       "      <th>2</th>\n",
       "      <td>52</td>\n",
       "      <td>slider02</td>\n",
       "    </tr>\n",
       "    <tr>\n",
       "      <th>3</th>\n",
       "      <td>53</td>\n",
       "      <td>pump06</td>\n",
       "    </tr>\n",
       "    <tr>\n",
       "      <th>4</th>\n",
       "      <td>54</td>\n",
       "      <td>slider06</td>\n",
       "    </tr>\n",
       "    <tr>\n",
       "      <th>5</th>\n",
       "      <td>55</td>\n",
       "      <td>valve04</td>\n",
       "    </tr>\n",
       "    <tr>\n",
       "      <th>6</th>\n",
       "      <td>56</td>\n",
       "      <td>pump00</td>\n",
       "    </tr>\n",
       "    <tr>\n",
       "      <th>7</th>\n",
       "      <td>57</td>\n",
       "      <td>fan00</td>\n",
       "    </tr>\n",
       "    <tr>\n",
       "      <th>8</th>\n",
       "      <td>58</td>\n",
       "      <td>slider04</td>\n",
       "    </tr>\n",
       "    <tr>\n",
       "      <th>9</th>\n",
       "      <td>59</td>\n",
       "      <td>slider00</td>\n",
       "    </tr>\n",
       "    <tr>\n",
       "      <th>10</th>\n",
       "      <td>60</td>\n",
       "      <td>valve06</td>\n",
       "    </tr>\n",
       "    <tr>\n",
       "      <th>11</th>\n",
       "      <td>61</td>\n",
       "      <td>pump02</td>\n",
       "    </tr>\n",
       "    <tr>\n",
       "      <th>12</th>\n",
       "      <td>62</td>\n",
       "      <td>fan02</td>\n",
       "    </tr>\n",
       "    <tr>\n",
       "      <th>13</th>\n",
       "      <td>63</td>\n",
       "      <td>fan04</td>\n",
       "    </tr>\n",
       "    <tr>\n",
       "      <th>14</th>\n",
       "      <td>64</td>\n",
       "      <td>pump04</td>\n",
       "    </tr>\n",
       "    <tr>\n",
       "      <th>15</th>\n",
       "      <td>65</td>\n",
       "      <td>fan06</td>\n",
       "    </tr>\n",
       "    <tr>\n",
       "      <th>16</th>\n",
       "      <td>66</td>\n",
       "      <td>valve02</td>\n",
       "    </tr>\n",
       "  </tbody>\n",
       "</table>\n",
       "</div>"
      ],
      "text/plain": [
       "    code_id            category\n",
       "0        50  .ipynb_checkpoints\n",
       "1        51             valve00\n",
       "2        52            slider02\n",
       "3        53              pump06\n",
       "4        54            slider06\n",
       "5        55             valve04\n",
       "6        56              pump00\n",
       "7        57               fan00\n",
       "8        58            slider04\n",
       "9        59            slider00\n",
       "10       60             valve06\n",
       "11       61              pump02\n",
       "12       62               fan02\n",
       "13       63               fan04\n",
       "14       64              pump04\n",
       "15       65               fan06\n",
       "16       66             valve02"
      ]
     },
     "execution_count": 30,
     "metadata": {},
     "output_type": "execute_result"
    }
   ],
   "source": [
    "codes_dictionary = {'code_id': np.arange(50,66).tolist(), \n",
    "       'category': folders}\n",
    "col = ['code_id','category']\n",
    "df = pd.DataFrame(codes_dictionary, columns = col)\n",
    "df.to_csv('codification.csv')"
   ]
  },
  {
   "cell_type": "markdown",
   "metadata": {},
   "source": [
    "Using paths and folders lists we create a dictionary with the path to each folder"
   ]
  },
  {
   "cell_type": "code",
   "execution_count": 28,
   "metadata": {},
   "outputs": [],
   "source": [
    "paths_dictionary = {} \n",
    "for key in folders: \n",
    "    for value in paths: \n",
    "        paths_dictionary[key] = value \n",
    "        paths.remove(value)\n",
    "        break \n",
    "        "
   ]
  },
  {
   "cell_type": "markdown",
   "metadata": {},
   "source": [
    "Finally we use rename_and_save function to store the renamed audios in a single new folder."
   ]
  },
  {
   "cell_type": "code",
   "execution_count": 29,
   "metadata": {},
   "outputs": [],
   "source": [
    "rename_and_save(paths_dictionary)"
   ]
  }
 ],
 "metadata": {
  "kernelspec": {
   "display_name": "Python 3",
   "language": "python",
   "name": "python3"
  },
  "language_info": {
   "codemirror_mode": {
    "name": "ipython",
    "version": 3
   },
   "file_extension": ".py",
   "mimetype": "text/x-python",
   "name": "python",
   "nbconvert_exporter": "python",
   "pygments_lexer": "ipython3",
   "version": "3.8.5"
  }
 },
 "nbformat": 4,
 "nbformat_minor": 4
}
