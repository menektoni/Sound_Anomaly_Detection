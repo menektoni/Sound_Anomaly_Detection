{
 "cells": [
  {
   "cell_type": "code",
   "execution_count": 14,
   "metadata": {},
   "outputs": [],
   "source": [
    "import numpy as np\n",
    "import pandas as pd\n",
    "\n",
    "import tensorflow as tf\n",
    "from tensorflow import keras\n",
    "from keras.layers import MaxPooling2D, Conv2D, GlobalAveragePooling2D\n",
    "from file_processing import create_melspec, load_audio, load_files_list"
   ]
  },
  {
   "cell_type": "code",
   "execution_count": 15,
   "metadata": {},
   "outputs": [],
   "source": [
    "melspec_params = {'n_mels': 128,'duration': 5*22050,'hop_length': 512,'n_fft': 2048,'fmin': 20}"
   ]
  },
  {
   "cell_type": "code",
   "execution_count": 16,
   "metadata": {},
   "outputs": [
    {
     "ename": "AttributeError",
     "evalue": "'list' object has no attribute 'shape'",
     "output_type": "error",
     "traceback": [
      "\u001b[0;31m---------------------------------------------------------------------------\u001b[0m",
      "\u001b[0;31mAttributeError\u001b[0m                            Traceback (most recent call last)",
      "\u001b[0;32m<ipython-input-16-6fb84dfc670b>\u001b[0m in \u001b[0;36m<module>\u001b[0;34m\u001b[0m\n\u001b[1;32m     17\u001b[0m \u001b[0;31m# Y[:,:,:,:-1,:] = X\u001b[0m\u001b[0;34m\u001b[0m\u001b[0;34m\u001b[0m\u001b[0;34m\u001b[0m\u001b[0m\n\u001b[1;32m     18\u001b[0m \u001b[0;31m# X = Y\u001b[0m\u001b[0;34m\u001b[0m\u001b[0;34m\u001b[0m\u001b[0;34m\u001b[0m\u001b[0m\n\u001b[0;32m---> 19\u001b[0;31m \u001b[0mX\u001b[0m\u001b[0;34m.\u001b[0m\u001b[0mshape\u001b[0m\u001b[0;34m\u001b[0m\u001b[0;34m\u001b[0m\u001b[0m\n\u001b[0m",
      "\u001b[0;31mAttributeError\u001b[0m: 'list' object has no attribute 'shape'"
     ]
    }
   ],
   "source": [
    "path = '../Datasets/s_a_d__datasets/MiMii/normal_train/'\n",
    "folders_list = load_files_list(path)\n",
    "X = []\n",
    "\n",
    "for folder in folders_list:\n",
    "    sub_folder_list = load_files_list(path + folder)\n",
    "    for sub_folder in sub_folder_list:\n",
    "        file_list = load_files_list(path + folder + '/' + sub_folder)\n",
    "        for file, i in zip(file_list, range(200)):\n",
    "            audio, sr = load_audio(path + folder + '/' + sub_folder + '/' + file)\n",
    "            melspec = create_melspec(melspec_params, audio, sr)\n",
    "            X.append(melspec)\n",
    "\n",
    "\n",
    "# X = np.asarray(X) # This is to solve a problem with the upscailings.\n",
    "# Y = np.zeros([X.shape[0], X.shape[1], X.shape[2], X.shape[3] + 1, X.shape[4]])\n",
    "# Y[:,:,:,:-1,:] = X\n",
    "# X = Y\n",
    "X.shape"
   ]
  },
  {
   "cell_type": "code",
   "execution_count": 17,
   "metadata": {},
   "outputs": [
    {
     "data": {
      "text/plain": [
       "(2253, 128, 216)"
      ]
     },
     "execution_count": 17,
     "metadata": {},
     "output_type": "execute_result"
    }
   ],
   "source": [
    "X = np.asarray(X)\n",
    "X.shape"
   ]
  },
  {
   "cell_type": "code",
   "execution_count": 18,
   "metadata": {},
   "outputs": [],
   "source": [
    "from sklearn.model_selection import train_test_split"
   ]
  },
  {
   "cell_type": "code",
   "execution_count": 19,
   "metadata": {},
   "outputs": [],
   "source": [
    "X_train, X_test = train_test_split(X, test_size=0.3, random_state=5)"
   ]
  },
  {
   "cell_type": "code",
   "execution_count": 20,
   "metadata": {},
   "outputs": [],
   "source": [
    "X_train = X_train.reshape(X_train.shape[0], 128, 216, 1)\n",
    "X_test = X_test.reshape(X_test.shape[0], 128, 216, 1)"
   ]
  },
  {
   "cell_type": "code",
   "execution_count": 21,
   "metadata": {},
   "outputs": [],
   "source": [
    "import tensorflow as tf\n",
    "from tensorflow import keras\n",
    "from keras.layers import Conv2D, MaxPool2D, UpSampling2D, GlobalAveragePooling2D\n",
    "from keras import Sequential\n",
    "from keras.callbacks import EarlyStopping"
   ]
  },
  {
   "cell_type": "code",
   "execution_count": 24,
   "metadata": {},
   "outputs": [],
   "source": [
    "autoencoder = Sequential()\n",
    "\n",
    "autoencoder.add(Conv2D(8, (3,3), activation='relu', padding='same', input_shape=(128, 216, 1)))\n",
    "autoencoder.add(MaxPool2D(pool_size=(2,2)))\n",
    "autoencoder.add(Conv2D(16, (3,3), activation='relu', padding='same'))\n",
    "autoencoder.add(MaxPool2D(pool_size=(2,2)))\n",
    "\n",
    "autoencoder.add(Conv2D(32, (3,3), activation='relu', padding='same'))\n",
    "\n",
    "autoencoder.add(UpSampling2D(size=2))\n",
    "autoencoder.add(Conv2D(16, (3,3), activation='relu', padding='same'))\n",
    "autoencoder.add(UpSampling2D(size=2))\n",
    "autoencoder.add(Conv2D(8,(3,3), activation='relu', padding='same'))\n",
    "\n",
    "autoencoder.add(Conv2D(1,(3,3), activation='sigmoid', padding='same'))"
   ]
  },
  {
   "cell_type": "code",
   "execution_count": 25,
   "metadata": {},
   "outputs": [],
   "source": [
    "autoencoder.compile(optimizer='adam', loss='mean_squared_error', metrics=['accuracy'])\n",
    "\n",
    "callbacks = [EarlyStopping(monitor='accuracy', patience=5, verbose=1, mode='auto')]"
   ]
  },
  {
   "cell_type": "code",
   "execution_count": 26,
   "metadata": {},
   "outputs": [
    {
     "name": "stdout",
     "output_type": "stream",
     "text": [
      "Epoch 1/50\n",
      "30/30 [==============================] - 34s 1s/step - loss: 1588.3552 - accuracy: 2.2430e-05 - val_loss: 1623.4181 - val_accuracy: 2.2434e-05\n",
      "Epoch 2/50\n",
      "30/30 [==============================] - 37s 1s/step - loss: 1587.9757 - accuracy: 2.4482e-05 - val_loss: 1623.4181 - val_accuracy: 2.2434e-05\n",
      "Epoch 3/50\n",
      "30/30 [==============================] - 36s 1s/step - loss: 1587.9756 - accuracy: 2.4482e-05 - val_loss: 1623.4181 - val_accuracy: 2.2434e-05\n",
      "Epoch 4/50\n",
      "30/30 [==============================] - 36s 1s/step - loss: 1587.9760 - accuracy: 2.4482e-05 - val_loss: 1623.4181 - val_accuracy: 2.2434e-05\n",
      "Epoch 5/50\n",
      "30/30 [==============================] - 36s 1s/step - loss: 1587.9760 - accuracy: 2.4482e-05 - val_loss: 1623.4181 - val_accuracy: 2.2434e-05\n",
      "Epoch 6/50\n",
      "30/30 [==============================] - 36s 1s/step - loss: 1587.9760 - accuracy: 2.4482e-05 - val_loss: 1623.4181 - val_accuracy: 2.2434e-05\n",
      "Epoch 7/50\n",
      "30/30 [==============================] - 36s 1s/step - loss: 1587.9756 - accuracy: 2.4482e-05 - val_loss: 1623.4181 - val_accuracy: 2.2434e-05\n",
      "Epoch 00007: early stopping\n"
     ]
    }
   ],
   "source": [
    "history = autoencoder.fit(X_train, X_train, batch_size=45, epochs=50, callbacks=callbacks, validation_split=0.15)"
   ]
  },
  {
   "cell_type": "code",
   "execution_count": null,
   "metadata": {},
   "outputs": [],
   "source": []
  }
 ],
 "metadata": {
  "kernelspec": {
   "display_name": "Python 3",
   "language": "python",
   "name": "python3"
  },
  "language_info": {
   "codemirror_mode": {
    "name": "ipython",
    "version": 3
   },
   "file_extension": ".py",
   "mimetype": "text/x-python",
   "name": "python",
   "nbconvert_exporter": "python",
   "pygments_lexer": "ipython3",
   "version": "3.8.5"
  }
 },
 "nbformat": 4,
 "nbformat_minor": 4
}
