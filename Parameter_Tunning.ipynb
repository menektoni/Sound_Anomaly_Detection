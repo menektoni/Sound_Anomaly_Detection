{
 "cells": [
  {
   "cell_type": "markdown",
   "metadata": {},
   "source": [
    "# Parameter Tunning\n",
    "\n",
    "We start with the parameter tunning. We have done some earl training and we got a good accuracy. 55% on the training set.\n",
    "\n",
    "The code done before is the following one.\n",
    "\n",
    "    model.add(Conv2D(64, (3, 3), padding = \"same\", activation = \"relu\", input_shape = (128, 217, 1)))\n",
    "    model.add(Conv2D(64, (3, 3), padding = \"same\", activation = \"relu\"))\n",
    "    model.add(MaxPool2D(pool_size=(2, 2)))\n",
    "    model.add(Conv2D(128, (3, 3), padding = \"same\", activation = \"relu\"))\n",
    "    model.add(Conv2D(128, (3, 3), padding = \"same\", activation = \"relu\"))\n",
    "    model.add(MaxPool2D(pool_size=(2, 2)))\n",
    "    model.add(GlobalAveragePooling2D())\n",
    "    model.add(Dropout(0.1))\n",
    "    model.add(Dense(1024, activation = \"relu\"))\n",
    "    model.add(Dense(50, activation = \"softmax\"))\n",
    "    \n",
    "    \n",
    "    model.compile(optimizer='adam', loss='categorical_crossentropy', metrics = ['accuracy'])"
   ]
  },
  {
   "cell_type": "code",
   "execution_count": 1,
   "metadata": {},
   "outputs": [],
   "source": [
    "import librosa\n",
    "import librosa.display\n",
    "\n",
    "import numpy as np\n",
    "import pandas as pd\n",
    "import matplotlib.pyplot as plt\n",
    "\n",
    "import os\n",
    "import re"
   ]
  },
  {
   "cell_type": "code",
   "execution_count": 2,
   "metadata": {},
   "outputs": [],
   "source": [
    "def create_melspec(params, audio_data, sampling_rate):\n",
    "    S = librosa.feature.melspectrogram(audio_data, sr=sampling_rate, n_mels=params['n_mels'],\n",
    "                                      hop_length=params['hop_length'], n_fft=params['n_fft'],\n",
    "                                      fmin=params['fmin'], fmax=(sampling_rate//2))\n",
    "    S_dB = librosa.power_to_db(S, ref=np.max)\n",
    "    S_dB = S_dB.astype(np.float32)\n",
    "\n",
    "    return S"
   ]
  },
  {
   "cell_type": "code",
   "execution_count": 3,
   "metadata": {},
   "outputs": [],
   "source": [
    "def load_audio(single_file):\n",
    "    # Take in count that our dataset files lasts everyone of them the same time. If not you should do something.\n",
    "    audio, sr = librosa.load(single_file, duration=5.0)\n",
    "    return audio, sr"
   ]
  },
  {
   "cell_type": "code",
   "execution_count": 4,
   "metadata": {},
   "outputs": [],
   "source": [
    "    melspec_params = {\n",
    "        'n_mels': 128, # The entire frequency spectrum divided by a concrete number.\n",
    "        'duration': 5*22050, # Number of seconds * sample rate\n",
    "        'hop_length': 512, # It has something to do with the duration. I think it fills the space with repetitions\n",
    "        'n_fft': 2048, # Length of the Fast Fourier Transformation\n",
    "        'fmin': 20\n",
    "}"
   ]
  },
  {
   "cell_type": "code",
   "execution_count": 5,
   "metadata": {},
   "outputs": [],
   "source": [
    "files_list = os.listdir('../Datasets/s_a_d__datasets/audio_esc50')\n",
    "paths_list = []\n",
    "for file in files_list:\n",
    "    paths_list.append('../Datasets/s_a_d__datasets/audio_esc50/'+file)\n",
    "    \n",
    "files_list_csv = os.listdir('../Datasets/s_a_d__datasets/experimental')"
   ]
  },
  {
   "cell_type": "code",
   "execution_count": 6,
   "metadata": {},
   "outputs": [],
   "source": [
    "Images = []\n",
    "Labels = []\n",
    "\n",
    "for file in files_list_csv:\n",
    "    image_to_be = pd.read_csv('../Datasets/s_a_d__datasets/experimental/'+file)\n",
    "    Images.append(image_to_be.to_numpy())\n",
    "    Labels.append(re.split(r'-|\\.', file)[3])"
   ]
  },
  {
   "cell_type": "code",
   "execution_count": 7,
   "metadata": {},
   "outputs": [],
   "source": [
    "Images = np.asarray(Images)\n",
    "Labels = np.asarray(Labels)\n",
    "\n",
    "Labels = pd.get_dummies(Labels)"
   ]
  },
  {
   "cell_type": "code",
   "execution_count": 2,
   "metadata": {},
   "outputs": [],
   "source": [
    "import tensorflow as tf\n",
    "from tensorflow import keras\n",
    "from tensorflow.keras import layers\n",
    "from tensorflow.keras.models import Sequential\n",
    "\n",
    "from keras.layers import Conv2D, Flatten, Dense, MaxPool2D, Dropout\n",
    "from keras.callbacks import EarlyStopping\n",
    "from keras.layers import GlobalAveragePooling2D\n",
    "from keras.optimizers import Adam"
   ]
  },
  {
   "cell_type": "code",
   "execution_count": 3,
   "metadata": {},
   "outputs": [],
   "source": [
    "from sklearn.model_selection import train_test_split"
   ]
  },
  {
   "cell_type": "code",
   "execution_count": 10,
   "metadata": {},
   "outputs": [],
   "source": [
    "X_train, X_test, y_train, y_test = train_test_split(Images, Labels, test_size=0.3, stratify=Labels)"
   ]
  },
  {
   "cell_type": "code",
   "execution_count": 11,
   "metadata": {},
   "outputs": [],
   "source": [
    "X_train = X_train.reshape(1400, 128, 217, 1)\n",
    "X_test = X_test.reshape(600, 128, 217, 1)\n",
    "\n",
    "\n",
    "input_dim = (128,217,1)"
   ]
  },
  {
   "cell_type": "code",
   "execution_count": 5,
   "metadata": {},
   "outputs": [],
   "source": [
    "model = Sequential()"
   ]
  },
  {
   "cell_type": "markdown",
   "metadata": {},
   "source": [
    "### Adding some Dense layers.\n",
    "\n",
    "First adding only one."
   ]
  },
  {
   "cell_type": "code",
   "execution_count": 6,
   "metadata": {},
   "outputs": [],
   "source": [
    "model.add(Conv2D(64, (3, 3), padding = \"same\", activation = \"relu\", input_shape = (128, 217, 1)))\n",
    "model.add(Conv2D(64, (3, 3), padding = \"same\", activation = \"relu\"))\n",
    "model.add(MaxPool2D(pool_size=(2, 2)))\n",
    "model.add(Conv2D(128, (3, 3), padding = \"same\", activation = \"relu\"))\n",
    "model.add(Conv2D(128, (3, 3), padding = \"same\", activation = \"relu\"))\n",
    "model.add(MaxPool2D(pool_size=(2, 2)))\n",
    "model.add(GlobalAveragePooling2D())\n",
    "model.add(Dropout(0.1))\n",
    "model.add(Dense(1024, activation = \"relu\"))\n",
    "model.add(Dropout(0.5))\n",
    "model.add(Dense(512, activation=\"relu\"))\n",
    "model.add(Dense(50, activation = \"softmax\"))"
   ]
  },
  {
   "cell_type": "code",
   "execution_count": 7,
   "metadata": {},
   "outputs": [
    {
     "name": "stdout",
     "output_type": "stream",
     "text": [
      "Model: \"sequential\"\n",
      "_________________________________________________________________\n",
      "Layer (type)                 Output Shape              Param #   \n",
      "=================================================================\n",
      "conv2d (Conv2D)              (None, 128, 217, 64)      640       \n",
      "_________________________________________________________________\n",
      "conv2d_1 (Conv2D)            (None, 128, 217, 64)      36928     \n",
      "_________________________________________________________________\n",
      "max_pooling2d (MaxPooling2D) (None, 64, 108, 64)       0         \n",
      "_________________________________________________________________\n",
      "conv2d_2 (Conv2D)            (None, 64, 108, 128)      73856     \n",
      "_________________________________________________________________\n",
      "conv2d_3 (Conv2D)            (None, 64, 108, 128)      147584    \n",
      "_________________________________________________________________\n",
      "max_pooling2d_1 (MaxPooling2 (None, 32, 54, 128)       0         \n",
      "_________________________________________________________________\n",
      "global_average_pooling2d (Gl (None, 128)               0         \n",
      "_________________________________________________________________\n",
      "dropout (Dropout)            (None, 128)               0         \n",
      "_________________________________________________________________\n",
      "dense (Dense)                (None, 1024)              132096    \n",
      "_________________________________________________________________\n",
      "dropout_1 (Dropout)          (None, 1024)              0         \n",
      "_________________________________________________________________\n",
      "dense_1 (Dense)              (None, 512)               524800    \n",
      "_________________________________________________________________\n",
      "dense_2 (Dense)              (None, 50)                25650     \n",
      "=================================================================\n",
      "Total params: 941,554\n",
      "Trainable params: 941,554\n",
      "Non-trainable params: 0\n",
      "_________________________________________________________________\n"
     ]
    }
   ],
   "source": [
    "model.summary()"
   ]
  },
  {
   "cell_type": "code",
   "execution_count": 14,
   "metadata": {},
   "outputs": [],
   "source": [
    "model.compile(optimizer='RMSprop', loss='categorical_crossentropy', metrics = ['accuracy'])\n",
    "\n",
    "callbacks = [EarlyStopping(monitor='accuracy', patience=5, verbose=1, mode='auto')]"
   ]
  },
  {
   "cell_type": "code",
   "execution_count": 15,
   "metadata": {
    "scrolled": false
   },
   "outputs": [
    {
     "name": "stdout",
     "output_type": "stream",
     "text": [
      "Epoch 1/50\n",
      " 2/39 [>.............................] - ETA: 1:29 - loss: 4.4307 - accuracy: 0.0139"
     ]
    },
    {
     "ename": "KeyboardInterrupt",
     "evalue": "",
     "output_type": "error",
     "traceback": [
      "\u001b[0;31m---------------------------------------------------------------------------\u001b[0m",
      "\u001b[0;31mKeyboardInterrupt\u001b[0m                         Traceback (most recent call last)",
      "\u001b[0;32m<ipython-input-15-3f68618f6c04>\u001b[0m in \u001b[0;36m<module>\u001b[0;34m\u001b[0m\n\u001b[0;32m----> 1\u001b[0;31m \u001b[0mmodel\u001b[0m\u001b[0;34m.\u001b[0m\u001b[0mfit\u001b[0m\u001b[0;34m(\u001b[0m\u001b[0mX_train\u001b[0m\u001b[0;34m,\u001b[0m \u001b[0my_train\u001b[0m\u001b[0;34m,\u001b[0m \u001b[0mepochs\u001b[0m\u001b[0;34m=\u001b[0m\u001b[0;36m50\u001b[0m\u001b[0;34m,\u001b[0m \u001b[0mbatch_size\u001b[0m\u001b[0;34m=\u001b[0m\u001b[0;36m36\u001b[0m\u001b[0;34m,\u001b[0m \u001b[0mcallbacks\u001b[0m\u001b[0;34m=\u001b[0m\u001b[0mcallbacks\u001b[0m\u001b[0;34m)\u001b[0m\u001b[0;34m\u001b[0m\u001b[0;34m\u001b[0m\u001b[0m\n\u001b[0m",
      "\u001b[0;32m~/Python/envs/s_a_d/lib/python3.8/site-packages/tensorflow/python/keras/engine/training.py\u001b[0m in \u001b[0;36m_method_wrapper\u001b[0;34m(self, *args, **kwargs)\u001b[0m\n\u001b[1;32m    106\u001b[0m   \u001b[0;32mdef\u001b[0m \u001b[0m_method_wrapper\u001b[0m\u001b[0;34m(\u001b[0m\u001b[0mself\u001b[0m\u001b[0;34m,\u001b[0m \u001b[0;34m*\u001b[0m\u001b[0margs\u001b[0m\u001b[0;34m,\u001b[0m \u001b[0;34m**\u001b[0m\u001b[0mkwargs\u001b[0m\u001b[0;34m)\u001b[0m\u001b[0;34m:\u001b[0m\u001b[0;34m\u001b[0m\u001b[0;34m\u001b[0m\u001b[0m\n\u001b[1;32m    107\u001b[0m     \u001b[0;32mif\u001b[0m \u001b[0;32mnot\u001b[0m \u001b[0mself\u001b[0m\u001b[0;34m.\u001b[0m\u001b[0m_in_multi_worker_mode\u001b[0m\u001b[0;34m(\u001b[0m\u001b[0;34m)\u001b[0m\u001b[0;34m:\u001b[0m  \u001b[0;31m# pylint: disable=protected-access\u001b[0m\u001b[0;34m\u001b[0m\u001b[0;34m\u001b[0m\u001b[0m\n\u001b[0;32m--> 108\u001b[0;31m       \u001b[0;32mreturn\u001b[0m \u001b[0mmethod\u001b[0m\u001b[0;34m(\u001b[0m\u001b[0mself\u001b[0m\u001b[0;34m,\u001b[0m \u001b[0;34m*\u001b[0m\u001b[0margs\u001b[0m\u001b[0;34m,\u001b[0m \u001b[0;34m**\u001b[0m\u001b[0mkwargs\u001b[0m\u001b[0;34m)\u001b[0m\u001b[0;34m\u001b[0m\u001b[0;34m\u001b[0m\u001b[0m\n\u001b[0m\u001b[1;32m    109\u001b[0m \u001b[0;34m\u001b[0m\u001b[0m\n\u001b[1;32m    110\u001b[0m     \u001b[0;31m# Running inside `run_distribute_coordinator` already.\u001b[0m\u001b[0;34m\u001b[0m\u001b[0;34m\u001b[0m\u001b[0;34m\u001b[0m\u001b[0m\n",
      "\u001b[0;32m~/Python/envs/s_a_d/lib/python3.8/site-packages/tensorflow/python/keras/engine/training.py\u001b[0m in \u001b[0;36mfit\u001b[0;34m(self, x, y, batch_size, epochs, verbose, callbacks, validation_split, validation_data, shuffle, class_weight, sample_weight, initial_epoch, steps_per_epoch, validation_steps, validation_batch_size, validation_freq, max_queue_size, workers, use_multiprocessing)\u001b[0m\n\u001b[1;32m   1096\u001b[0m                 batch_size=batch_size):\n\u001b[1;32m   1097\u001b[0m               \u001b[0mcallbacks\u001b[0m\u001b[0;34m.\u001b[0m\u001b[0mon_train_batch_begin\u001b[0m\u001b[0;34m(\u001b[0m\u001b[0mstep\u001b[0m\u001b[0;34m)\u001b[0m\u001b[0;34m\u001b[0m\u001b[0;34m\u001b[0m\u001b[0m\n\u001b[0;32m-> 1098\u001b[0;31m               \u001b[0mtmp_logs\u001b[0m \u001b[0;34m=\u001b[0m \u001b[0mtrain_function\u001b[0m\u001b[0;34m(\u001b[0m\u001b[0miterator\u001b[0m\u001b[0;34m)\u001b[0m\u001b[0;34m\u001b[0m\u001b[0;34m\u001b[0m\u001b[0m\n\u001b[0m\u001b[1;32m   1099\u001b[0m               \u001b[0;32mif\u001b[0m \u001b[0mdata_handler\u001b[0m\u001b[0;34m.\u001b[0m\u001b[0mshould_sync\u001b[0m\u001b[0;34m:\u001b[0m\u001b[0;34m\u001b[0m\u001b[0;34m\u001b[0m\u001b[0m\n\u001b[1;32m   1100\u001b[0m                 \u001b[0mcontext\u001b[0m\u001b[0;34m.\u001b[0m\u001b[0masync_wait\u001b[0m\u001b[0;34m(\u001b[0m\u001b[0;34m)\u001b[0m\u001b[0;34m\u001b[0m\u001b[0;34m\u001b[0m\u001b[0m\n",
      "\u001b[0;32m~/Python/envs/s_a_d/lib/python3.8/site-packages/tensorflow/python/eager/def_function.py\u001b[0m in \u001b[0;36m__call__\u001b[0;34m(self, *args, **kwds)\u001b[0m\n\u001b[1;32m    778\u001b[0m       \u001b[0;32melse\u001b[0m\u001b[0;34m:\u001b[0m\u001b[0;34m\u001b[0m\u001b[0;34m\u001b[0m\u001b[0m\n\u001b[1;32m    779\u001b[0m         \u001b[0mcompiler\u001b[0m \u001b[0;34m=\u001b[0m \u001b[0;34m\"nonXla\"\u001b[0m\u001b[0;34m\u001b[0m\u001b[0;34m\u001b[0m\u001b[0m\n\u001b[0;32m--> 780\u001b[0;31m         \u001b[0mresult\u001b[0m \u001b[0;34m=\u001b[0m \u001b[0mself\u001b[0m\u001b[0;34m.\u001b[0m\u001b[0m_call\u001b[0m\u001b[0;34m(\u001b[0m\u001b[0;34m*\u001b[0m\u001b[0margs\u001b[0m\u001b[0;34m,\u001b[0m \u001b[0;34m**\u001b[0m\u001b[0mkwds\u001b[0m\u001b[0;34m)\u001b[0m\u001b[0;34m\u001b[0m\u001b[0;34m\u001b[0m\u001b[0m\n\u001b[0m\u001b[1;32m    781\u001b[0m \u001b[0;34m\u001b[0m\u001b[0m\n\u001b[1;32m    782\u001b[0m       \u001b[0mnew_tracing_count\u001b[0m \u001b[0;34m=\u001b[0m \u001b[0mself\u001b[0m\u001b[0;34m.\u001b[0m\u001b[0m_get_tracing_count\u001b[0m\u001b[0;34m(\u001b[0m\u001b[0;34m)\u001b[0m\u001b[0;34m\u001b[0m\u001b[0;34m\u001b[0m\u001b[0m\n",
      "\u001b[0;32m~/Python/envs/s_a_d/lib/python3.8/site-packages/tensorflow/python/eager/def_function.py\u001b[0m in \u001b[0;36m_call\u001b[0;34m(self, *args, **kwds)\u001b[0m\n\u001b[1;32m    805\u001b[0m       \u001b[0;31m# In this case we have created variables on the first call, so we run the\u001b[0m\u001b[0;34m\u001b[0m\u001b[0;34m\u001b[0m\u001b[0;34m\u001b[0m\u001b[0m\n\u001b[1;32m    806\u001b[0m       \u001b[0;31m# defunned version which is guaranteed to never create variables.\u001b[0m\u001b[0;34m\u001b[0m\u001b[0;34m\u001b[0m\u001b[0;34m\u001b[0m\u001b[0m\n\u001b[0;32m--> 807\u001b[0;31m       \u001b[0;32mreturn\u001b[0m \u001b[0mself\u001b[0m\u001b[0;34m.\u001b[0m\u001b[0m_stateless_fn\u001b[0m\u001b[0;34m(\u001b[0m\u001b[0;34m*\u001b[0m\u001b[0margs\u001b[0m\u001b[0;34m,\u001b[0m \u001b[0;34m**\u001b[0m\u001b[0mkwds\u001b[0m\u001b[0;34m)\u001b[0m  \u001b[0;31m# pylint: disable=not-callable\u001b[0m\u001b[0;34m\u001b[0m\u001b[0;34m\u001b[0m\u001b[0m\n\u001b[0m\u001b[1;32m    808\u001b[0m     \u001b[0;32melif\u001b[0m \u001b[0mself\u001b[0m\u001b[0;34m.\u001b[0m\u001b[0m_stateful_fn\u001b[0m \u001b[0;32mis\u001b[0m \u001b[0;32mnot\u001b[0m \u001b[0;32mNone\u001b[0m\u001b[0;34m:\u001b[0m\u001b[0;34m\u001b[0m\u001b[0;34m\u001b[0m\u001b[0m\n\u001b[1;32m    809\u001b[0m       \u001b[0;31m# Release the lock early so that multiple threads can perform the call\u001b[0m\u001b[0;34m\u001b[0m\u001b[0;34m\u001b[0m\u001b[0;34m\u001b[0m\u001b[0m\n",
      "\u001b[0;32m~/Python/envs/s_a_d/lib/python3.8/site-packages/tensorflow/python/eager/function.py\u001b[0m in \u001b[0;36m__call__\u001b[0;34m(self, *args, **kwargs)\u001b[0m\n\u001b[1;32m   2827\u001b[0m     \u001b[0;32mwith\u001b[0m \u001b[0mself\u001b[0m\u001b[0;34m.\u001b[0m\u001b[0m_lock\u001b[0m\u001b[0;34m:\u001b[0m\u001b[0;34m\u001b[0m\u001b[0;34m\u001b[0m\u001b[0m\n\u001b[1;32m   2828\u001b[0m       \u001b[0mgraph_function\u001b[0m\u001b[0;34m,\u001b[0m \u001b[0margs\u001b[0m\u001b[0;34m,\u001b[0m \u001b[0mkwargs\u001b[0m \u001b[0;34m=\u001b[0m \u001b[0mself\u001b[0m\u001b[0;34m.\u001b[0m\u001b[0m_maybe_define_function\u001b[0m\u001b[0;34m(\u001b[0m\u001b[0margs\u001b[0m\u001b[0;34m,\u001b[0m \u001b[0mkwargs\u001b[0m\u001b[0;34m)\u001b[0m\u001b[0;34m\u001b[0m\u001b[0;34m\u001b[0m\u001b[0m\n\u001b[0;32m-> 2829\u001b[0;31m     \u001b[0;32mreturn\u001b[0m \u001b[0mgraph_function\u001b[0m\u001b[0;34m.\u001b[0m\u001b[0m_filtered_call\u001b[0m\u001b[0;34m(\u001b[0m\u001b[0margs\u001b[0m\u001b[0;34m,\u001b[0m \u001b[0mkwargs\u001b[0m\u001b[0;34m)\u001b[0m  \u001b[0;31m# pylint: disable=protected-access\u001b[0m\u001b[0;34m\u001b[0m\u001b[0;34m\u001b[0m\u001b[0m\n\u001b[0m\u001b[1;32m   2830\u001b[0m \u001b[0;34m\u001b[0m\u001b[0m\n\u001b[1;32m   2831\u001b[0m   \u001b[0;34m@\u001b[0m\u001b[0mproperty\u001b[0m\u001b[0;34m\u001b[0m\u001b[0;34m\u001b[0m\u001b[0m\n",
      "\u001b[0;32m~/Python/envs/s_a_d/lib/python3.8/site-packages/tensorflow/python/eager/function.py\u001b[0m in \u001b[0;36m_filtered_call\u001b[0;34m(self, args, kwargs, cancellation_manager)\u001b[0m\n\u001b[1;32m   1841\u001b[0m       \u001b[0;31m`\u001b[0m\u001b[0margs\u001b[0m\u001b[0;31m`\u001b[0m \u001b[0;32mand\u001b[0m\u001b[0;31m \u001b[0m\u001b[0;31m`\u001b[0m\u001b[0mkwargs\u001b[0m\u001b[0;31m`\u001b[0m\u001b[0;34m.\u001b[0m\u001b[0;34m\u001b[0m\u001b[0;34m\u001b[0m\u001b[0m\n\u001b[1;32m   1842\u001b[0m     \"\"\"\n\u001b[0;32m-> 1843\u001b[0;31m     return self._call_flat(\n\u001b[0m\u001b[1;32m   1844\u001b[0m         [t for t in nest.flatten((args, kwargs), expand_composites=True)\n\u001b[1;32m   1845\u001b[0m          if isinstance(t, (ops.Tensor,\n",
      "\u001b[0;32m~/Python/envs/s_a_d/lib/python3.8/site-packages/tensorflow/python/eager/function.py\u001b[0m in \u001b[0;36m_call_flat\u001b[0;34m(self, args, captured_inputs, cancellation_manager)\u001b[0m\n\u001b[1;32m   1921\u001b[0m         and executing_eagerly):\n\u001b[1;32m   1922\u001b[0m       \u001b[0;31m# No tape is watching; skip to running the function.\u001b[0m\u001b[0;34m\u001b[0m\u001b[0;34m\u001b[0m\u001b[0;34m\u001b[0m\u001b[0m\n\u001b[0;32m-> 1923\u001b[0;31m       return self._build_call_outputs(self._inference_function.call(\n\u001b[0m\u001b[1;32m   1924\u001b[0m           ctx, args, cancellation_manager=cancellation_manager))\n\u001b[1;32m   1925\u001b[0m     forward_backward = self._select_forward_and_backward_functions(\n",
      "\u001b[0;32m~/Python/envs/s_a_d/lib/python3.8/site-packages/tensorflow/python/eager/function.py\u001b[0m in \u001b[0;36mcall\u001b[0;34m(self, ctx, args, cancellation_manager)\u001b[0m\n\u001b[1;32m    543\u001b[0m       \u001b[0;32mwith\u001b[0m \u001b[0m_InterpolateFunctionError\u001b[0m\u001b[0;34m(\u001b[0m\u001b[0mself\u001b[0m\u001b[0;34m)\u001b[0m\u001b[0;34m:\u001b[0m\u001b[0;34m\u001b[0m\u001b[0;34m\u001b[0m\u001b[0m\n\u001b[1;32m    544\u001b[0m         \u001b[0;32mif\u001b[0m \u001b[0mcancellation_manager\u001b[0m \u001b[0;32mis\u001b[0m \u001b[0;32mNone\u001b[0m\u001b[0;34m:\u001b[0m\u001b[0;34m\u001b[0m\u001b[0;34m\u001b[0m\u001b[0m\n\u001b[0;32m--> 545\u001b[0;31m           outputs = execute.execute(\n\u001b[0m\u001b[1;32m    546\u001b[0m               \u001b[0mstr\u001b[0m\u001b[0;34m(\u001b[0m\u001b[0mself\u001b[0m\u001b[0;34m.\u001b[0m\u001b[0msignature\u001b[0m\u001b[0;34m.\u001b[0m\u001b[0mname\u001b[0m\u001b[0;34m)\u001b[0m\u001b[0;34m,\u001b[0m\u001b[0;34m\u001b[0m\u001b[0;34m\u001b[0m\u001b[0m\n\u001b[1;32m    547\u001b[0m               \u001b[0mnum_outputs\u001b[0m\u001b[0;34m=\u001b[0m\u001b[0mself\u001b[0m\u001b[0;34m.\u001b[0m\u001b[0m_num_outputs\u001b[0m\u001b[0;34m,\u001b[0m\u001b[0;34m\u001b[0m\u001b[0;34m\u001b[0m\u001b[0m\n",
      "\u001b[0;32m~/Python/envs/s_a_d/lib/python3.8/site-packages/tensorflow/python/eager/execute.py\u001b[0m in \u001b[0;36mquick_execute\u001b[0;34m(op_name, num_outputs, inputs, attrs, ctx, name)\u001b[0m\n\u001b[1;32m     57\u001b[0m   \u001b[0;32mtry\u001b[0m\u001b[0;34m:\u001b[0m\u001b[0;34m\u001b[0m\u001b[0;34m\u001b[0m\u001b[0m\n\u001b[1;32m     58\u001b[0m     \u001b[0mctx\u001b[0m\u001b[0;34m.\u001b[0m\u001b[0mensure_initialized\u001b[0m\u001b[0;34m(\u001b[0m\u001b[0;34m)\u001b[0m\u001b[0;34m\u001b[0m\u001b[0;34m\u001b[0m\u001b[0m\n\u001b[0;32m---> 59\u001b[0;31m     tensors = pywrap_tfe.TFE_Py_Execute(ctx._handle, device_name, op_name,\n\u001b[0m\u001b[1;32m     60\u001b[0m                                         inputs, attrs, num_outputs)\n\u001b[1;32m     61\u001b[0m   \u001b[0;32mexcept\u001b[0m \u001b[0mcore\u001b[0m\u001b[0;34m.\u001b[0m\u001b[0m_NotOkStatusException\u001b[0m \u001b[0;32mas\u001b[0m \u001b[0me\u001b[0m\u001b[0;34m:\u001b[0m\u001b[0;34m\u001b[0m\u001b[0;34m\u001b[0m\u001b[0m\n",
      "\u001b[0;31mKeyboardInterrupt\u001b[0m: "
     ]
    }
   ],
   "source": [
    "model.fit(X_train, y_train, epochs=50, batch_size=36, callbacks=callbacks)"
   ]
  },
  {
   "cell_type": "code",
   "execution_count": 51,
   "metadata": {},
   "outputs": [
    {
     "name": "stdout",
     "output_type": "stream",
     "text": [
      "19/19 [==============================] - 5s 256ms/step - loss: 2.3551 - accuracy: 0.3833\n",
      "[2.355092763900757, 0.38333332538604736]\n"
     ]
    }
   ],
   "source": [
    "predictions = model.predict(X_test)\n",
    "score = model.evaluate(X_test, y_test)\n",
    "print(score)"
   ]
  },
  {
   "cell_type": "code",
   "execution_count": 15,
   "metadata": {},
   "outputs": [],
   "source": [
    "model.add(Conv2D(32, (3, 3), padding = \"same\", activation = \"relu\", input_shape = (128, 217, 1)))\n",
    "model.add(Conv2D(32, (3, 3), padding = \"same\", activation = \"relu\"))\n",
    "model.add(MaxPool2D(pool_size=(2, 2)))\n",
    "model.add(Conv2D(64, (3, 3), padding = \"same\", activation = \"relu\"))\n",
    "model.add(Conv2D(64, (3, 3), padding = \"same\", activation = \"relu\"))\n",
    "model.add(MaxPool2D(pool_size=(2, 2)))\n",
    "model.add(Conv2D(128, (3, 3), padding = \"same\", activation = \"relu\"))\n",
    "model.add(Conv2D(128, (3, 3), padding = \"same\", activation = \"relu\"))\n",
    "model.add(MaxPool2D(pool_size=(2, 2)))\n",
    "model.add(GlobalAveragePooling2D())\n",
    "model.add(Dropout(0.1))\n",
    "model.add(Dense(1024, activation = \"relu\"))\n",
    "model.add(Dropout(0.5))\n",
    "model.add(Dense(512, activation=\"relu\"))\n",
    "model.add(Dense(50, activation = \"softmax\"))"
   ]
  },
  {
   "cell_type": "code",
   "execution_count": 18,
   "metadata": {},
   "outputs": [],
   "source": [
    "model.compile(optimizer=Adam(lr=0.001), loss='categorical_crossentropy', metrics = ['accuracy'])\n",
    "\n",
    "callbacks = [EarlyStopping(monitor='accuracy', patience=5, verbose=1, mode='auto')]"
   ]
  },
  {
   "cell_type": "code",
   "execution_count": 19,
   "metadata": {
    "scrolled": true
   },
   "outputs": [
    {
     "name": "stdout",
     "output_type": "stream",
     "text": [
      "Epoch 1/100\n",
      "39/39 [==============================] - 82s 2s/step - loss: 3.8902 - accuracy: 0.0193\n",
      "Epoch 2/100\n",
      "39/39 [==============================] - 84s 2s/step - loss: 3.7885 - accuracy: 0.0379\n",
      "Epoch 3/100\n",
      "39/39 [==============================] - 82s 2s/step - loss: 3.7350 - accuracy: 0.0436\n",
      "Epoch 4/100\n",
      "39/39 [==============================] - 85s 2s/step - loss: 3.6824 - accuracy: 0.0443\n",
      "Epoch 5/100\n",
      "39/39 [==============================] - 98s 3s/step - loss: 3.5775 - accuracy: 0.0564\n",
      "Epoch 6/100\n",
      "39/39 [==============================] - 97s 2s/step - loss: 3.4569 - accuracy: 0.0636\n",
      "Epoch 7/100\n",
      "39/39 [==============================] - 105s 3s/step - loss: 3.2496 - accuracy: 0.0914\n",
      "Epoch 8/100\n",
      "39/39 [==============================] - 102s 3s/step - loss: 3.1249 - accuracy: 0.1064\n",
      "Epoch 9/100\n",
      "39/39 [==============================] - 98s 3s/step - loss: 3.0417 - accuracy: 0.1314\n",
      "Epoch 10/100\n",
      "39/39 [==============================] - 96s 2s/step - loss: 2.9293 - accuracy: 0.1486\n",
      "Epoch 11/100\n",
      "39/39 [==============================] - 97s 2s/step - loss: 2.8378 - accuracy: 0.1664\n",
      "Epoch 12/100\n",
      "39/39 [==============================] - 100s 3s/step - loss: 2.7096 - accuracy: 0.1950\n",
      "Epoch 13/100\n",
      "39/39 [==============================] - 101s 3s/step - loss: 2.6378 - accuracy: 0.2057\n",
      "Epoch 14/100\n",
      "39/39 [==============================] - 100s 3s/step - loss: 2.5617 - accuracy: 0.2264\n",
      "Epoch 15/100\n",
      "39/39 [==============================] - 99s 3s/step - loss: 2.4211 - accuracy: 0.2571\n",
      "Epoch 16/100\n",
      "39/39 [==============================] - 99s 3s/step - loss: 2.3289 - accuracy: 0.2793\n",
      "Epoch 17/100\n",
      "39/39 [==============================] - 94s 2s/step - loss: 2.3004 - accuracy: 0.2664\n",
      "Epoch 18/100\n",
      "39/39 [==============================] - 97s 2s/step - loss: 2.1635 - accuracy: 0.3243\n",
      "Epoch 19/100\n",
      "39/39 [==============================] - 98s 3s/step - loss: 2.1216 - accuracy: 0.3050\n",
      "Epoch 20/100\n",
      "39/39 [==============================] - 98s 3s/step - loss: 2.0104 - accuracy: 0.3757\n",
      "Epoch 21/100\n",
      "39/39 [==============================] - 95s 2s/step - loss: 1.8802 - accuracy: 0.3914\n",
      "Epoch 22/100\n",
      "39/39 [==============================] - 93s 2s/step - loss: 1.7924 - accuracy: 0.4236\n",
      "Epoch 23/100\n",
      "39/39 [==============================] - 97s 2s/step - loss: 1.7886 - accuracy: 0.4193\n",
      "Epoch 24/100\n",
      "39/39 [==============================] - 96s 2s/step - loss: 1.6867 - accuracy: 0.4450\n",
      "Epoch 25/100\n",
      "39/39 [==============================] - 94s 2s/step - loss: 1.6381 - accuracy: 0.4800\n",
      "Epoch 26/100\n",
      "39/39 [==============================] - 96s 2s/step - loss: 1.5787 - accuracy: 0.4907\n",
      "Epoch 27/100\n",
      "39/39 [==============================] - 97s 2s/step - loss: 1.5373 - accuracy: 0.4893\n",
      "Epoch 28/100\n",
      "39/39 [==============================] - 92s 2s/step - loss: 1.4935 - accuracy: 0.5043\n",
      "Epoch 29/100\n",
      "39/39 [==============================] - 92s 2s/step - loss: 1.3677 - accuracy: 0.5521\n",
      "Epoch 30/100\n",
      "39/39 [==============================] - 92s 2s/step - loss: 1.3777 - accuracy: 0.5436\n",
      "Epoch 31/100\n",
      "39/39 [==============================] - 92s 2s/step - loss: 1.3013 - accuracy: 0.5636\n",
      "Epoch 32/100\n",
      "39/39 [==============================] - 92s 2s/step - loss: 1.2523 - accuracy: 0.5921\n",
      "Epoch 33/100\n",
      "39/39 [==============================] - 92s 2s/step - loss: 1.2517 - accuracy: 0.5943\n",
      "Epoch 34/100\n",
      "39/39 [==============================] - 92s 2s/step - loss: 1.1697 - accuracy: 0.6100\n",
      "Epoch 35/100\n",
      "39/39 [==============================] - 92s 2s/step - loss: 1.1485 - accuracy: 0.6221\n",
      "Epoch 36/100\n",
      "39/39 [==============================] - 92s 2s/step - loss: 1.1247 - accuracy: 0.6329\n",
      "Epoch 37/100\n",
      "39/39 [==============================] - 92s 2s/step - loss: 1.0843 - accuracy: 0.6386\n",
      "Epoch 38/100\n",
      "39/39 [==============================] - 92s 2s/step - loss: 1.0608 - accuracy: 0.6471\n",
      "Epoch 39/100\n",
      "39/39 [==============================] - 94s 2s/step - loss: 1.1775 - accuracy: 0.6321\n",
      "Epoch 40/100\n",
      "39/39 [==============================] - 666s 17s/step - loss: 1.1117 - accuracy: 0.6279\n",
      "Epoch 41/100\n",
      "39/39 [==============================] - 92s 2s/step - loss: 0.9766 - accuracy: 0.6743\n",
      "Epoch 42/100\n",
      "39/39 [==============================] - 83s 2s/step - loss: 0.9829 - accuracy: 0.6614\n",
      "Epoch 43/100\n",
      "39/39 [==============================] - 85s 2s/step - loss: 0.8485 - accuracy: 0.7164\n",
      "Epoch 44/100\n",
      "39/39 [==============================] - 92s 2s/step - loss: 0.7868 - accuracy: 0.7400\n",
      "Epoch 45/100\n",
      "39/39 [==============================] - 92s 2s/step - loss: 0.7945 - accuracy: 0.7236\n",
      "Epoch 46/100\n",
      "39/39 [==============================] - 92s 2s/step - loss: 0.7824 - accuracy: 0.7593\n",
      "Epoch 47/100\n",
      "39/39 [==============================] - 92s 2s/step - loss: 0.8126 - accuracy: 0.7421\n",
      "Epoch 48/100\n",
      "39/39 [==============================] - 92s 2s/step - loss: 0.6701 - accuracy: 0.7743\n",
      "Epoch 49/100\n",
      "39/39 [==============================] - 91s 2s/step - loss: 0.6609 - accuracy: 0.7643\n",
      "Epoch 50/100\n",
      "39/39 [==============================] - 92s 2s/step - loss: 0.7226 - accuracy: 0.7564\n",
      "Epoch 51/100\n",
      "39/39 [==============================] - 92s 2s/step - loss: 0.7431 - accuracy: 0.7579\n",
      "Epoch 52/100\n",
      "39/39 [==============================] - 92s 2s/step - loss: 0.7763 - accuracy: 0.7357\n",
      "Epoch 53/100\n",
      "39/39 [==============================] - 93s 2s/step - loss: 0.6971 - accuracy: 0.7793\n",
      "Epoch 54/100\n",
      "39/39 [==============================] - 92s 2s/step - loss: 0.7042 - accuracy: 0.7764\n",
      "Epoch 55/100\n",
      "39/39 [==============================] - 92s 2s/step - loss: 0.5994 - accuracy: 0.8036\n",
      "Epoch 56/100\n",
      "39/39 [==============================] - 92s 2s/step - loss: 0.7705 - accuracy: 0.7686\n",
      "Epoch 57/100\n",
      "39/39 [==============================] - 92s 2s/step - loss: 0.7761 - accuracy: 0.7571\n",
      "Epoch 58/100\n",
      "39/39 [==============================] - 91s 2s/step - loss: 0.8083 - accuracy: 0.7271\n",
      "Epoch 59/100\n",
      "39/39 [==============================] - 92s 2s/step - loss: 0.6466 - accuracy: 0.7971\n",
      "Epoch 60/100\n",
      "39/39 [==============================] - 91s 2s/step - loss: 0.4963 - accuracy: 0.8293\n",
      "Epoch 61/100\n",
      "39/39 [==============================] - 91s 2s/step - loss: 0.4641 - accuracy: 0.8386\n",
      "Epoch 62/100\n",
      "39/39 [==============================] - 92s 2s/step - loss: 0.4424 - accuracy: 0.8529\n",
      "Epoch 63/100\n",
      "39/39 [==============================] - 92s 2s/step - loss: 0.4277 - accuracy: 0.8529\n",
      "Epoch 64/100\n",
      "39/39 [==============================] - 92s 2s/step - loss: 0.4186 - accuracy: 0.8636\n",
      "Epoch 65/100\n",
      "39/39 [==============================] - 91s 2s/step - loss: 0.4329 - accuracy: 0.8507\n",
      "Epoch 66/100\n",
      "39/39 [==============================] - 91s 2s/step - loss: 0.3867 - accuracy: 0.8664\n",
      "Epoch 67/100\n",
      "39/39 [==============================] - 91s 2s/step - loss: 0.3781 - accuracy: 0.8664\n",
      "Epoch 68/100\n",
      "39/39 [==============================] - 95s 2s/step - loss: 0.3678 - accuracy: 0.8779\n",
      "Epoch 69/100\n",
      "39/39 [==============================] - 93s 2s/step - loss: 0.3624 - accuracy: 0.8793\n",
      "Epoch 70/100\n",
      "39/39 [==============================] - 92s 2s/step - loss: 0.3326 - accuracy: 0.8843\n",
      "Epoch 71/100\n",
      "39/39 [==============================] - 92s 2s/step - loss: 0.3538 - accuracy: 0.8700\n",
      "Epoch 72/100\n",
      "39/39 [==============================] - 92s 2s/step - loss: 0.3925 - accuracy: 0.8657\n",
      "Epoch 73/100\n",
      "39/39 [==============================] - 92s 2s/step - loss: 0.4783 - accuracy: 0.8443\n",
      "Epoch 74/100\n",
      "39/39 [==============================] - 92s 2s/step - loss: 0.5686 - accuracy: 0.8243\n",
      "Epoch 75/100\n",
      "39/39 [==============================] - 92s 2s/step - loss: 0.4667 - accuracy: 0.8486\n",
      "Epoch 00075: early stopping\n"
     ]
    },
    {
     "data": {
      "text/plain": [
       "<tensorflow.python.keras.callbacks.History at 0x7f93040463d0>"
      ]
     },
     "execution_count": 19,
     "metadata": {},
     "output_type": "execute_result"
    }
   ],
   "source": [
    "model.fit(X_train, y_train, epochs=100, batch_size=36, callbacks=callbacks)"
   ]
  },
  {
   "cell_type": "code",
   "execution_count": 20,
   "metadata": {},
   "outputs": [
    {
     "name": "stdout",
     "output_type": "stream",
     "text": [
      "19/19 [==============================] - 5s 267ms/step - loss: 2.5200 - accuracy: 0.5517\n",
      "[2.5199925899505615, 0.5516666769981384]\n"
     ]
    }
   ],
   "source": [
    "predictions = model.predict(X_test)\n",
    "score = model.evaluate(X_test, y_test)\n",
    "print(score)"
   ]
  },
  {
   "cell_type": "code",
   "execution_count": 17,
   "metadata": {},
   "outputs": [],
   "source": [
    "model = Sequential()"
   ]
  },
  {
   "cell_type": "code",
   "execution_count": 18,
   "metadata": {},
   "outputs": [],
   "source": [
    "model.add(Conv2D(32, (3, 3), padding = \"same\", activation = \"relu\", input_shape = (128, 217, 1)))\n",
    "model.add(Conv2D(32, (3, 3), padding = \"same\", activation = \"relu\"))\n",
    "model.add(MaxPool2D(pool_size=(2, 2)))\n",
    "model.add(Conv2D(64, (3, 3), padding = \"same\", activation = \"relu\"))\n",
    "model.add(Conv2D(64, (3, 3), padding = \"same\", activation = \"relu\"))\n",
    "model.add(MaxPool2D(pool_size=(2, 2)))\n",
    "model.add(Conv2D(128, (3, 3), padding = \"same\", activation = \"relu\"))\n",
    "model.add(Conv2D(128, (3, 3), padding = \"same\", activation = \"relu\"))\n",
    "model.add(MaxPool2D(pool_size=(2, 2)))\n",
    "model.add(GlobalAveragePooling2D())\n",
    "model.add(Dropout(0.1))\n",
    "model.add(Dense(1024, activation = \"relu\"))\n",
    "model.add(Dense(50, activation = \"softmax\"))"
   ]
  },
  {
   "cell_type": "code",
   "execution_count": 19,
   "metadata": {},
   "outputs": [],
   "source": [
    "model.compile(optimizer=Adam(lr=0.001), loss='categorical_crossentropy', metrics = ['accuracy'])\n",
    "\n",
    "callbacks = [EarlyStopping(monitor='accuracy', patience=5, verbose=1, mode='auto')]"
   ]
  },
  {
   "cell_type": "code",
   "execution_count": 20,
   "metadata": {
    "scrolled": true
   },
   "outputs": [
    {
     "name": "stdout",
     "output_type": "stream",
     "text": [
      "Epoch 1/100\n",
      "47/47 [==============================] - 90s 2s/step - loss: 3.8743 - accuracy: 0.0264\n",
      "Epoch 2/100\n",
      "47/47 [==============================] - 92s 2s/step - loss: 3.7767 - accuracy: 0.0457\n",
      "Epoch 3/100\n",
      "47/47 [==============================] - 92s 2s/step - loss: 3.6531 - accuracy: 0.0629\n",
      "Epoch 4/100\n",
      "47/47 [==============================] - 90s 2s/step - loss: 3.4641 - accuracy: 0.0729\n",
      "Epoch 5/100\n",
      "47/47 [==============================] - 90s 2s/step - loss: 3.2892 - accuracy: 0.0964\n",
      "Epoch 6/100\n",
      "47/47 [==============================] - 104s 2s/step - loss: 3.1692 - accuracy: 0.1271\n",
      "Epoch 7/100\n",
      "47/47 [==============================] - 102s 2s/step - loss: 3.0578 - accuracy: 0.1521\n",
      "Epoch 8/100\n",
      "47/47 [==============================] - 102s 2s/step - loss: 2.9473 - accuracy: 0.1714\n",
      "Epoch 9/100\n",
      "47/47 [==============================] - 96s 2s/step - loss: 2.8012 - accuracy: 0.1936\n",
      "Epoch 10/100\n",
      "47/47 [==============================] - 93s 2s/step - loss: 2.6810 - accuracy: 0.2193\n",
      "Epoch 11/100\n",
      "47/47 [==============================] - 90s 2s/step - loss: 2.5213 - accuracy: 0.2571\n",
      "Epoch 12/100\n",
      "47/47 [==============================] - 92s 2s/step - loss: 2.4088 - accuracy: 0.2771\n",
      "Epoch 13/100\n",
      "47/47 [==============================] - 92s 2s/step - loss: 2.3287 - accuracy: 0.3029\n",
      "Epoch 14/100\n",
      "47/47 [==============================] - 92s 2s/step - loss: 2.1815 - accuracy: 0.3479\n",
      "Epoch 15/100\n",
      "47/47 [==============================] - 90s 2s/step - loss: 2.0459 - accuracy: 0.3679\n",
      "Epoch 16/100\n",
      "47/47 [==============================] - 90s 2s/step - loss: 1.9918 - accuracy: 0.3900\n",
      "Epoch 17/100\n",
      "47/47 [==============================] - 92s 2s/step - loss: 1.8507 - accuracy: 0.4207\n",
      "Epoch 18/100\n",
      "47/47 [==============================] - 92s 2s/step - loss: 1.7051 - accuracy: 0.4736\n",
      "Epoch 19/100\n",
      "47/47 [==============================] - 91s 2s/step - loss: 1.6182 - accuracy: 0.4914\n",
      "Epoch 20/100\n",
      "47/47 [==============================] - 92s 2s/step - loss: 1.5337 - accuracy: 0.5207\n",
      "Epoch 21/100\n",
      "47/47 [==============================] - 90s 2s/step - loss: 1.4670 - accuracy: 0.5286\n",
      "Epoch 22/100\n",
      "47/47 [==============================] - 92s 2s/step - loss: 1.4021 - accuracy: 0.5479\n",
      "Epoch 23/100\n",
      "47/47 [==============================] - 92s 2s/step - loss: 1.2329 - accuracy: 0.6057\n",
      "Epoch 24/100\n",
      "47/47 [==============================] - 90s 2s/step - loss: 1.2267 - accuracy: 0.6150\n",
      "Epoch 25/100\n",
      "47/47 [==============================] - 90s 2s/step - loss: 1.1770 - accuracy: 0.6171\n",
      "Epoch 26/100\n",
      "47/47 [==============================] - 90s 2s/step - loss: 1.1326 - accuracy: 0.6343\n",
      "Epoch 27/100\n",
      "47/47 [==============================] - 90s 2s/step - loss: 1.0334 - accuracy: 0.6771\n",
      "Epoch 28/100\n",
      "47/47 [==============================] - 90s 2s/step - loss: 1.0097 - accuracy: 0.6829\n",
      "Epoch 29/100\n",
      "47/47 [==============================] - 90s 2s/step - loss: 0.9878 - accuracy: 0.6714\n",
      "Epoch 30/100\n",
      "47/47 [==============================] - 90s 2s/step - loss: 0.9344 - accuracy: 0.7043\n",
      "Epoch 31/100\n",
      "47/47 [==============================] - 90s 2s/step - loss: 0.9488 - accuracy: 0.6857\n",
      "Epoch 32/100\n",
      "47/47 [==============================] - 90s 2s/step - loss: 0.8028 - accuracy: 0.7314\n",
      "Epoch 33/100\n",
      "47/47 [==============================] - 90s 2s/step - loss: 0.7331 - accuracy: 0.7529\n",
      "Epoch 34/100\n",
      "47/47 [==============================] - 90s 2s/step - loss: 0.7763 - accuracy: 0.7393\n",
      "Epoch 35/100\n",
      "47/47 [==============================] - 90s 2s/step - loss: 1.0980 - accuracy: 0.6607\n",
      "Epoch 36/100\n",
      "47/47 [==============================] - 90s 2s/step - loss: 0.7565 - accuracy: 0.7486\n",
      "Epoch 37/100\n",
      "47/47 [==============================] - 90s 2s/step - loss: 0.6574 - accuracy: 0.7793\n",
      "Epoch 38/100\n",
      "47/47 [==============================] - 90s 2s/step - loss: 0.5477 - accuracy: 0.8107\n",
      "Epoch 39/100\n",
      "47/47 [==============================] - 90s 2s/step - loss: 0.5591 - accuracy: 0.8129\n",
      "Epoch 40/100\n",
      "47/47 [==============================] - 90s 2s/step - loss: 0.5623 - accuracy: 0.8093\n",
      "Epoch 41/100\n",
      "47/47 [==============================] - 91s 2s/step - loss: 0.5954 - accuracy: 0.8050\n",
      "Epoch 42/100\n",
      "47/47 [==============================] - 90s 2s/step - loss: 0.6201 - accuracy: 0.8000\n",
      "Epoch 43/100\n",
      "47/47 [==============================] - 90s 2s/step - loss: 0.5827 - accuracy: 0.8107\n",
      "Epoch 44/100\n",
      "47/47 [==============================] - 90s 2s/step - loss: 0.4926 - accuracy: 0.8264\n",
      "Epoch 45/100\n",
      "47/47 [==============================] - 90s 2s/step - loss: 0.4774 - accuracy: 0.8307\n",
      "Epoch 46/100\n",
      "47/47 [==============================] - 91s 2s/step - loss: 0.4053 - accuracy: 0.8614\n",
      "Epoch 47/100\n",
      "47/47 [==============================] - 90s 2s/step - loss: 0.4267 - accuracy: 0.8636\n",
      "Epoch 48/100\n",
      "47/47 [==============================] - 90s 2s/step - loss: 0.4540 - accuracy: 0.8586\n",
      "Epoch 49/100\n",
      "47/47 [==============================] - 91s 2s/step - loss: 0.3555 - accuracy: 0.8800\n",
      "Epoch 50/100\n",
      "47/47 [==============================] - 92s 2s/step - loss: 0.3476 - accuracy: 0.8914\n",
      "Epoch 51/100\n",
      "47/47 [==============================] - 93s 2s/step - loss: 0.4404 - accuracy: 0.8571\n",
      "Epoch 52/100\n",
      "47/47 [==============================] - 90s 2s/step - loss: 0.4124 - accuracy: 0.8629\n",
      "Epoch 53/100\n",
      "47/47 [==============================] - 90s 2s/step - loss: 0.3960 - accuracy: 0.8736\n",
      "Epoch 54/100\n",
      "47/47 [==============================] - 91s 2s/step - loss: 0.4046 - accuracy: 0.8636\n",
      "Epoch 55/100\n",
      "47/47 [==============================] - 92s 2s/step - loss: 0.3170 - accuracy: 0.8993\n",
      "Epoch 56/100\n",
      "47/47 [==============================] - 91s 2s/step - loss: 0.3866 - accuracy: 0.8829\n",
      "Epoch 57/100\n",
      "47/47 [==============================] - 93s 2s/step - loss: 0.2294 - accuracy: 0.9264\n",
      "Epoch 58/100\n",
      "47/47 [==============================] - 95s 2s/step - loss: 0.2343 - accuracy: 0.9193\n",
      "Epoch 59/100\n",
      "47/47 [==============================] - 93s 2s/step - loss: 0.3324 - accuracy: 0.9029\n",
      "Epoch 60/100\n",
      "47/47 [==============================] - 91s 2s/step - loss: 0.2332 - accuracy: 0.9271\n",
      "Epoch 61/100\n",
      "47/47 [==============================] - 95s 2s/step - loss: 0.3620 - accuracy: 0.8800\n",
      "Epoch 62/100\n",
      "47/47 [==============================] - 93s 2s/step - loss: 0.3481 - accuracy: 0.8850\n",
      "Epoch 63/100\n",
      "47/47 [==============================] - 93s 2s/step - loss: 0.3726 - accuracy: 0.8793\n",
      "Epoch 64/100\n",
      "47/47 [==============================] - 93s 2s/step - loss: 0.1821 - accuracy: 0.9414\n",
      "Epoch 65/100\n",
      "47/47 [==============================] - 91s 2s/step - loss: 0.1646 - accuracy: 0.9479\n",
      "Epoch 66/100\n",
      "47/47 [==============================] - 91s 2s/step - loss: 0.1911 - accuracy: 0.9464\n",
      "Epoch 67/100\n",
      "47/47 [==============================] - 91s 2s/step - loss: 0.2123 - accuracy: 0.9293\n",
      "Epoch 68/100\n",
      "47/47 [==============================] - 95s 2s/step - loss: 0.1509 - accuracy: 0.9493\n",
      "Epoch 69/100\n",
      "47/47 [==============================] - 95s 2s/step - loss: 0.2652 - accuracy: 0.9193\n",
      "Epoch 70/100\n",
      "47/47 [==============================] - 97s 2s/step - loss: 0.3558 - accuracy: 0.8957\n",
      "Epoch 71/100\n",
      "47/47 [==============================] - 93s 2s/step - loss: 0.2102 - accuracy: 0.9314\n",
      "Epoch 72/100\n",
      "47/47 [==============================] - 91s 2s/step - loss: 0.2020 - accuracy: 0.9329\n",
      "Epoch 73/100\n",
      "47/47 [==============================] - 91s 2s/step - loss: 0.2610 - accuracy: 0.9250\n",
      "Epoch 00073: early stopping\n"
     ]
    },
    {
     "data": {
      "text/plain": [
       "<tensorflow.python.keras.callbacks.History at 0x7f547c4fdb50>"
      ]
     },
     "execution_count": 20,
     "metadata": {},
     "output_type": "execute_result"
    }
   ],
   "source": [
    "model.fit(X_train, y_train, epochs=100, batch_size=30, callbacks=callbacks)"
   ]
  },
  {
   "cell_type": "code",
   "execution_count": 21,
   "metadata": {},
   "outputs": [
    {
     "name": "stdout",
     "output_type": "stream",
     "text": [
      "19/19 [==============================] - 8s 412ms/step - loss: 2.7727 - accuracy: 0.5850\n",
      "[2.772711753845215, 0.5849999785423279]\n"
     ]
    }
   ],
   "source": [
    "predictions = model.predict(X_test)\n",
    "score = model.evaluate(X_test, y_test)\n",
    "print(score)"
   ]
  },
  {
   "cell_type": "code",
   "execution_count": 13,
   "metadata": {},
   "outputs": [],
   "source": [
    "model = Sequential()"
   ]
  },
  {
   "cell_type": "code",
   "execution_count": 14,
   "metadata": {},
   "outputs": [],
   "source": [
    "model.add(Conv2D(16, (3, 3), padding = \"same\", activation = \"relu\", input_shape = (128, 217, 1)))\n",
    "model.add(Conv2D(16, (3, 3), padding = \"same\", activation = \"relu\"))\n",
    "model.add(MaxPool2D(pool_size=(2, 2)))\n",
    "model.add(Conv2D(32, (3, 3), padding = \"same\", activation = \"relu\"))\n",
    "model.add(Conv2D(32, (3, 3), padding = \"same\", activation = \"relu\"))\n",
    "model.add(MaxPool2D(pool_size=(2, 2)))\n",
    "model.add(Conv2D(64, (3, 3), padding = \"same\", activation = \"relu\"))\n",
    "model.add(Conv2D(64, (3, 3), padding = \"same\", activation = \"relu\"))\n",
    "model.add(MaxPool2D(pool_size=(2, 2)))\n",
    "model.add(Conv2D(128, (3, 3), padding = \"same\", activation = \"relu\"))\n",
    "model.add(Conv2D(128, (3, 3), padding = \"same\", activation = \"relu\"))\n",
    "model.add(MaxPool2D(pool_size=(2, 2)))\n",
    "model.add(GlobalAveragePooling2D())\n",
    "model.add(Dropout(0.1))\n",
    "model.add(Dense(1024, activation = \"relu\"))\n",
    "model.add(Dense(50, activation = \"softmax\"))"
   ]
  },
  {
   "cell_type": "code",
   "execution_count": 15,
   "metadata": {},
   "outputs": [],
   "source": [
    "model.compile(optimizer=Adam(lr=0.001), loss='categorical_crossentropy', metrics = ['accuracy'])\n",
    "\n",
    "callbacks = [EarlyStopping(monitor='accuracy', patience=5, verbose=1, mode='auto')]"
   ]
  },
  {
   "cell_type": "code",
   "execution_count": 34,
   "metadata": {},
   "outputs": [
    {
     "name": "stdout",
     "output_type": "stream",
     "text": [
      "Epoch 1/100\n",
      "39/39 [==============================] - 41s 1s/step - loss: 3.8580 - accuracy: 0.0271\n",
      "Epoch 2/100\n",
      "39/39 [==============================] - 42s 1s/step - loss: 3.7861 - accuracy: 0.0557\n",
      "Epoch 3/100\n",
      "39/39 [==============================] - 42s 1s/step - loss: 3.6701 - accuracy: 0.0679\n",
      "Epoch 4/100\n",
      "39/39 [==============================] - 47s 1s/step - loss: 3.5443 - accuracy: 0.0657\n",
      "Epoch 5/100\n",
      "39/39 [==============================] - 46s 1s/step - loss: 3.4086 - accuracy: 0.0750\n",
      "Epoch 6/100\n",
      "39/39 [==============================] - 46s 1s/step - loss: 3.1762 - accuracy: 0.1100\n",
      "Epoch 7/100\n",
      "39/39 [==============================] - 46s 1s/step - loss: 2.9973 - accuracy: 0.1357\n",
      "Epoch 8/100\n",
      "39/39 [==============================] - 46s 1s/step - loss: 2.9717 - accuracy: 0.1629\n",
      "Epoch 9/100\n",
      "39/39 [==============================] - 46s 1s/step - loss: 2.7513 - accuracy: 0.1979\n",
      "Epoch 10/100\n",
      "39/39 [==============================] - 46s 1s/step - loss: 2.6071 - accuracy: 0.2271\n",
      "Epoch 11/100\n",
      "39/39 [==============================] - 46s 1s/step - loss: 2.4949 - accuracy: 0.2564\n",
      "Epoch 12/100\n",
      "39/39 [==============================] - 46s 1s/step - loss: 2.3087 - accuracy: 0.3000\n",
      "Epoch 13/100\n",
      "39/39 [==============================] - 46s 1s/step - loss: 2.1061 - accuracy: 0.3486\n",
      "Epoch 14/100\n",
      "39/39 [==============================] - 46s 1s/step - loss: 2.0273 - accuracy: 0.3779\n",
      "Epoch 15/100\n",
      "39/39 [==============================] - 46s 1s/step - loss: 2.0888 - accuracy: 0.3614\n",
      "Epoch 16/100\n",
      "39/39 [==============================] - 46s 1s/step - loss: 1.7967 - accuracy: 0.4329\n",
      "Epoch 17/100\n",
      "39/39 [==============================] - 46s 1s/step - loss: 1.6481 - accuracy: 0.4743\n",
      "Epoch 18/100\n",
      "39/39 [==============================] - 46s 1s/step - loss: 1.5246 - accuracy: 0.5079\n",
      "Epoch 19/100\n",
      "39/39 [==============================] - 46s 1s/step - loss: 1.4255 - accuracy: 0.5443\n",
      "Epoch 20/100\n",
      "39/39 [==============================] - 46s 1s/step - loss: 1.3170 - accuracy: 0.5736\n",
      "Epoch 21/100\n",
      "39/39 [==============================] - 46s 1s/step - loss: 1.2851 - accuracy: 0.5914\n",
      "Epoch 22/100\n",
      "39/39 [==============================] - 46s 1s/step - loss: 1.3431 - accuracy: 0.5786\n",
      "Epoch 23/100\n",
      "39/39 [==============================] - 46s 1s/step - loss: 1.2701 - accuracy: 0.5893\n",
      "Epoch 24/100\n",
      "39/39 [==============================] - 46s 1s/step - loss: 1.0662 - accuracy: 0.6521\n",
      "Epoch 25/100\n",
      "39/39 [==============================] - 46s 1s/step - loss: 1.0029 - accuracy: 0.6707\n",
      "Epoch 26/100\n",
      "39/39 [==============================] - 46s 1s/step - loss: 0.8854 - accuracy: 0.7043\n",
      "Epoch 27/100\n",
      "39/39 [==============================] - 46s 1s/step - loss: 0.9381 - accuracy: 0.6750\n",
      "Epoch 28/100\n",
      "39/39 [==============================] - 46s 1s/step - loss: 0.9817 - accuracy: 0.6793\n",
      "Epoch 29/100\n",
      "39/39 [==============================] - 46s 1s/step - loss: 0.8439 - accuracy: 0.7336\n",
      "Epoch 30/100\n",
      "39/39 [==============================] - 46s 1s/step - loss: 0.7153 - accuracy: 0.7621\n",
      "Epoch 31/100\n",
      "39/39 [==============================] - 46s 1s/step - loss: 0.6581 - accuracy: 0.7814\n",
      "Epoch 32/100\n",
      "39/39 [==============================] - 46s 1s/step - loss: 0.6620 - accuracy: 0.7857\n",
      "Epoch 33/100\n",
      "39/39 [==============================] - 47s 1s/step - loss: 0.6450 - accuracy: 0.7943\n",
      "Epoch 34/100\n",
      "39/39 [==============================] - 51s 1s/step - loss: 0.6308 - accuracy: 0.7950\n",
      "Epoch 35/100\n",
      "39/39 [==============================] - 52s 1s/step - loss: 0.5572 - accuracy: 0.8236\n",
      "Epoch 36/100\n",
      "39/39 [==============================] - 60s 2s/step - loss: 0.6627 - accuracy: 0.7750\n",
      "Epoch 37/100\n",
      "39/39 [==============================] - 60s 2s/step - loss: 0.5874 - accuracy: 0.8164\n",
      "Epoch 38/100\n",
      "39/39 [==============================] - 60s 2s/step - loss: 0.5315 - accuracy: 0.8279\n",
      "Epoch 39/100\n",
      "39/39 [==============================] - 50s 1s/step - loss: 0.4034 - accuracy: 0.8564\n",
      "Epoch 40/100\n",
      "39/39 [==============================] - 62s 2s/step - loss: 0.4936 - accuracy: 0.8400\n",
      "Epoch 41/100\n",
      "39/39 [==============================] - 61s 2s/step - loss: 0.6931 - accuracy: 0.7750\n",
      "Epoch 42/100\n",
      "39/39 [==============================] - 60s 2s/step - loss: 0.4167 - accuracy: 0.8564\n",
      "Epoch 43/100\n",
      "39/39 [==============================] - 60s 2s/step - loss: 0.3932 - accuracy: 0.8536\n",
      "Epoch 44/100\n",
      "39/39 [==============================] - 60s 2s/step - loss: 0.3498 - accuracy: 0.8764\n",
      "Epoch 45/100\n",
      "39/39 [==============================] - 60s 2s/step - loss: 0.3261 - accuracy: 0.8971\n",
      "Epoch 46/100\n",
      "39/39 [==============================] - 60s 2s/step - loss: 0.2783 - accuracy: 0.9100\n",
      "Epoch 47/100\n",
      "39/39 [==============================] - 60s 2s/step - loss: 0.2275 - accuracy: 0.9200\n",
      "Epoch 48/100\n",
      "39/39 [==============================] - 61s 2s/step - loss: 0.2288 - accuracy: 0.9236\n",
      "Epoch 49/100\n",
      "39/39 [==============================] - 61s 2s/step - loss: 0.2094 - accuracy: 0.9300\n",
      "Epoch 50/100\n",
      "39/39 [==============================] - 61s 2s/step - loss: 0.3634 - accuracy: 0.8800\n",
      "Epoch 51/100\n",
      "39/39 [==============================] - 61s 2s/step - loss: 0.3745 - accuracy: 0.8750\n",
      "Epoch 52/100\n",
      "39/39 [==============================] - 54s 1s/step - loss: 0.2331 - accuracy: 0.9214\n",
      "Epoch 53/100\n",
      "39/39 [==============================] - 52s 1s/step - loss: 0.1736 - accuracy: 0.9443\n",
      "Epoch 54/100\n",
      "39/39 [==============================] - 60s 2s/step - loss: 0.3769 - accuracy: 0.8971\n",
      "Epoch 55/100\n",
      "39/39 [==============================] - 60s 2s/step - loss: 0.3200 - accuracy: 0.8886\n",
      "Epoch 56/100\n",
      "39/39 [==============================] - 60s 2s/step - loss: 0.3070 - accuracy: 0.9121\n",
      "Epoch 57/100\n",
      "39/39 [==============================] - 63s 2s/step - loss: 0.2561 - accuracy: 0.9100\n",
      "Epoch 58/100\n",
      "39/39 [==============================] - 61s 2s/step - loss: 0.1267 - accuracy: 0.9536\n",
      "Epoch 59/100\n",
      "39/39 [==============================] - 57s 1s/step - loss: 0.1287 - accuracy: 0.9607\n",
      "Epoch 60/100\n",
      "39/39 [==============================] - 53s 1s/step - loss: 0.1386 - accuracy: 0.9536\n",
      "Epoch 61/100\n",
      "39/39 [==============================] - 54s 1s/step - loss: 0.1762 - accuracy: 0.9321\n",
      "Epoch 62/100\n",
      "39/39 [==============================] - 54s 1s/step - loss: 0.4648 - accuracy: 0.8679\n",
      "Epoch 63/100\n",
      "39/39 [==============================] - 53s 1s/step - loss: 0.6319 - accuracy: 0.8336\n",
      "Epoch 64/100\n",
      "39/39 [==============================] - 56s 1s/step - loss: 0.3192 - accuracy: 0.9064\n",
      "Epoch 00064: early stopping\n"
     ]
    },
    {
     "data": {
      "text/plain": [
       "<tensorflow.python.keras.callbacks.History at 0x7f92bc7d1b50>"
      ]
     },
     "execution_count": 34,
     "metadata": {},
     "output_type": "execute_result"
    }
   ],
   "source": [
    "model.fit(X_train, y_train, epochs=100, batch_size=36, callbacks=callbacks)"
   ]
  },
  {
   "cell_type": "code",
   "execution_count": 35,
   "metadata": {},
   "outputs": [
    {
     "name": "stdout",
     "output_type": "stream",
     "text": [
      "19/19 [==============================] - 4s 220ms/step - loss: 2.1331 - accuracy: 0.6317\n",
      "[2.1330630779266357, 0.6316666603088379]\n"
     ]
    }
   ],
   "source": [
    "predictions = model.predict(X_test)\n",
    "score = model.evaluate(X_test, y_test)\n",
    "print(score)"
   ]
  },
  {
   "cell_type": "markdown",
   "metadata": {},
   "source": [
    "### Trying the tensorboard."
   ]
  },
  {
   "cell_type": "code",
   "execution_count": 16,
   "metadata": {},
   "outputs": [],
   "source": [
    "root_logdir = os.path.join(os.curdir, 'my_logs')"
   ]
  },
  {
   "cell_type": "code",
   "execution_count": 17,
   "metadata": {},
   "outputs": [],
   "source": [
    "def get_run_logdir():\n",
    "    import time\n",
    "    run_id = time.strftime(\"run_%Y_%m_%d-%H_%M_%S\")\n",
    "    return os.path.join(root_logdir, run_id)"
   ]
  },
  {
   "cell_type": "code",
   "execution_count": 18,
   "metadata": {},
   "outputs": [],
   "source": [
    "run_logdir = get_run_logdir()"
   ]
  },
  {
   "cell_type": "code",
   "execution_count": 19,
   "metadata": {
    "scrolled": true
   },
   "outputs": [
    {
     "name": "stdout",
     "output_type": "stream",
     "text": [
      "Epoch 1/30\n",
      " 1/47 [..............................] - ETA: 0s - loss: 3.9403 - accuracy: 0.0000e+00WARNING:tensorflow:From /home/toni_domenech/Python/envs/s_a_d/lib/python3.8/site-packages/tensorflow/python/ops/summary_ops_v2.py:1277: stop (from tensorflow.python.eager.profiler) is deprecated and will be removed after 2020-07-01.\n",
      "Instructions for updating:\n",
      "use `tf.profiler.experimental.stop` instead.\n",
      "47/47 [==============================] - 41s 877ms/step - loss: 3.8514 - accuracy: 0.0221\n",
      "Epoch 2/30\n",
      "47/47 [==============================] - 44s 945ms/step - loss: 3.7449 - accuracy: 0.0464\n",
      "Epoch 3/30\n",
      "47/47 [==============================] - 42s 897ms/step - loss: 3.6247 - accuracy: 0.0550\n",
      "Epoch 4/30\n",
      "47/47 [==============================] - 42s 887ms/step - loss: 3.4486 - accuracy: 0.0707\n",
      "Epoch 5/30\n",
      "47/47 [==============================] - 46s 974ms/step - loss: 3.2242 - accuracy: 0.1086\n",
      "Epoch 6/30\n",
      "47/47 [==============================] - 46s 970ms/step - loss: 3.0855 - accuracy: 0.1336\n",
      "Epoch 7/30\n",
      "47/47 [==============================] - 46s 986ms/step - loss: 2.9931 - accuracy: 0.1621\n",
      "Epoch 8/30\n",
      "47/47 [==============================] - 46s 969ms/step - loss: 2.9014 - accuracy: 0.1829\n",
      "Epoch 9/30\n",
      "47/47 [==============================] - 46s 983ms/step - loss: 2.7378 - accuracy: 0.2186\n",
      "Epoch 10/30\n",
      "47/47 [==============================] - 46s 985ms/step - loss: 2.7063 - accuracy: 0.2171\n",
      "Epoch 11/30\n",
      "47/47 [==============================] - 47s 1s/step - loss: 2.4848 - accuracy: 0.2843\n",
      "Epoch 12/30\n",
      "47/47 [==============================] - 49s 1s/step - loss: 2.3164 - accuracy: 0.3193\n",
      "Epoch 13/30\n",
      "47/47 [==============================] - 47s 1s/step - loss: 2.1075 - accuracy: 0.3493\n",
      "Epoch 14/30\n",
      "47/47 [==============================] - 47s 1s/step - loss: 1.9930 - accuracy: 0.3857\n",
      "Epoch 15/30\n",
      "47/47 [==============================] - 49s 1s/step - loss: 1.8185 - accuracy: 0.4371\n",
      "Epoch 16/30\n",
      "47/47 [==============================] - 47s 1s/step - loss: 1.8990 - accuracy: 0.4343\n",
      "Epoch 17/30\n",
      "47/47 [==============================] - 46s 986ms/step - loss: 1.8011 - accuracy: 0.4436\n",
      "Epoch 18/30\n",
      "47/47 [==============================] - 45s 963ms/step - loss: 1.6100 - accuracy: 0.4886\n",
      "Epoch 19/30\n",
      "47/47 [==============================] - 47s 1s/step - loss: 1.4507 - accuracy: 0.5307\n",
      "Epoch 20/30\n",
      "47/47 [==============================] - 50s 1s/step - loss: 1.3756 - accuracy: 0.5550\n",
      "Epoch 21/30\n",
      "47/47 [==============================] - 46s 972ms/step - loss: 1.2885 - accuracy: 0.5793\n",
      "Epoch 22/30\n",
      "47/47 [==============================] - 46s 971ms/step - loss: 1.2251 - accuracy: 0.5993\n",
      "Epoch 23/30\n",
      "47/47 [==============================] - 46s 976ms/step - loss: 1.1249 - accuracy: 0.6114\n",
      "Epoch 24/30\n",
      "47/47 [==============================] - 46s 970ms/step - loss: 1.0380 - accuracy: 0.6557\n",
      "Epoch 25/30\n",
      "47/47 [==============================] - 46s 969ms/step - loss: 0.9517 - accuracy: 0.6664\n",
      "Epoch 26/30\n",
      "47/47 [==============================] - 46s 973ms/step - loss: 1.0425 - accuracy: 0.6557\n",
      "Epoch 27/30\n",
      "47/47 [==============================] - 46s 971ms/step - loss: 1.0526 - accuracy: 0.6614\n",
      "Epoch 28/30\n",
      "47/47 [==============================] - 46s 973ms/step - loss: 0.9101 - accuracy: 0.6886\n",
      "Epoch 29/30\n",
      "47/47 [==============================] - 46s 968ms/step - loss: 0.8965 - accuracy: 0.6807\n",
      "Epoch 30/30\n",
      "47/47 [==============================] - 46s 973ms/step - loss: 0.7563 - accuracy: 0.7386\n"
     ]
    }
   ],
   "source": [
    "tensorboard_cb = keras.callbacks.TensorBoard(run_logdir)\n",
    "history = model.fit(X_train, y_train, epochs=30,\n",
    "                    batch_size=30, callbacks=[tensorboard_cb])"
   ]
  },
  {
   "cell_type": "markdown",
   "metadata": {},
   "source": [
    "### New model viewing the results of HParam tunning."
   ]
  },
  {
   "cell_type": "code",
   "execution_count": 20,
   "metadata": {},
   "outputs": [],
   "source": [
    "%load_ext tensorboard"
   ]
  },
  {
   "cell_type": "code",
   "execution_count": 15,
   "metadata": {},
   "outputs": [],
   "source": [
    "from datetime import datetime"
   ]
  },
  {
   "cell_type": "code",
   "execution_count": 17,
   "metadata": {},
   "outputs": [],
   "source": [
    "# Create a TensorBoard callback\n",
    "logs = \"another_logs/\" + datetime.now().strftime(\"%Y%m%d-%H%M%S\")\n",
    "\n",
    "tboard_callback = tf.keras.callbacks.TensorBoard(log_dir = logs,\n",
    "                                                 histogram_freq = 1,\n",
    "                                                 profile_batch = '500,520')"
   ]
  },
  {
   "cell_type": "code",
   "execution_count": 18,
   "metadata": {},
   "outputs": [],
   "source": [
    "callbacks = [EarlyStopping(monitor='accuracy', patience=5, verbose=1, mode='auto')]"
   ]
  },
  {
   "cell_type": "code",
   "execution_count": 23,
   "metadata": {},
   "outputs": [],
   "source": [
    "model = Sequential()"
   ]
  },
  {
   "cell_type": "code",
   "execution_count": 24,
   "metadata": {},
   "outputs": [],
   "source": [
    "model.add(Conv2D(64, (3, 3), padding = \"same\", activation = \"relu\", input_shape = (128, 217, 1)))\n",
    "model.add(MaxPool2D(pool_size=(2, 2)))\n",
    "model.add(Conv2D(128, (3, 3), padding = \"same\", activation = \"relu\"))\n",
    "model.add(MaxPool2D(pool_size=(2, 2)))\n",
    "model.add(Conv2D(256, (3, 3), padding = \"same\", activation = \"relu\"))\n",
    "model.add(MaxPool2D(pool_size=(2, 2)))\n",
    "model.add(Conv2D(512, (3, 3), padding = \"same\", activation = \"relu\"))\n",
    "model.add(MaxPool2D(pool_size=(2, 2)))\n",
    "model.add(GlobalAveragePooling2D())\n",
    "model.add(Dropout(0.1))\n",
    "model.add(Dense(1024, activation = \"relu\"))\n",
    "model.add(Dense(50, activation = \"softmax\"))"
   ]
  },
  {
   "cell_type": "code",
   "execution_count": 25,
   "metadata": {},
   "outputs": [],
   "source": [
    "model.compile(optimizer='rmsprop', loss='categorical_crossentropy', metrics=['accuracy'])"
   ]
  },
  {
   "cell_type": "code",
   "execution_count": 26,
   "metadata": {
    "scrolled": true
   },
   "outputs": [
    {
     "name": "stdout",
     "output_type": "stream",
     "text": [
      "Epoch 1/100\n",
      "47/47 [==============================] - 87s 2s/step - loss: 5.2662 - accuracy: 0.0279\n",
      "Epoch 2/100\n",
      "47/47 [==============================] - 91s 2s/step - loss: 3.7079 - accuracy: 0.0721\n",
      "Epoch 3/100\n",
      "47/47 [==============================] - 92s 2s/step - loss: 3.5170 - accuracy: 0.0850\n",
      "Epoch 4/100\n",
      "47/47 [==============================] - 92s 2s/step - loss: 3.1792 - accuracy: 0.1350\n",
      "Epoch 5/100\n",
      "47/47 [==============================] - 92s 2s/step - loss: 3.0464 - accuracy: 0.1643\n",
      "Epoch 6/100\n",
      "47/47 [==============================] - 92s 2s/step - loss: 2.8298 - accuracy: 0.2229\n",
      "Epoch 7/100\n",
      "47/47 [==============================] - 92s 2s/step - loss: 2.6586 - accuracy: 0.2593\n",
      "Epoch 8/100\n",
      "47/47 [==============================] - 92s 2s/step - loss: 2.4417 - accuracy: 0.3114\n",
      "Epoch 9/100\n",
      "47/47 [==============================] - 91s 2s/step - loss: 2.2831 - accuracy: 0.3550\n",
      "Epoch 10/100\n",
      "47/47 [==============================] - 95s 2s/step - loss: 2.1270 - accuracy: 0.4050\n",
      "Epoch 11/100\n",
      "47/47 [==============================] - 92s 2s/step - loss: 1.9326 - accuracy: 0.4293\n",
      "Epoch 12/100\n",
      " 2/47 [>.............................] - ETA: 45s - loss: 1.7838 - accuracy: 0.4667WARNING:tensorflow:From /home/toni_domenech/Python/envs/s_a_d/lib/python3.8/site-packages/tensorflow/python/ops/summary_ops_v2.py:1277: stop (from tensorflow.python.eager.profiler) is deprecated and will be removed after 2020-07-01.\n",
      "Instructions for updating:\n",
      "use `tf.profiler.experimental.stop` instead.\n",
      "47/47 [==============================] - 92s 2s/step - loss: 1.8255 - accuracy: 0.4764\n",
      "Epoch 13/100\n",
      "47/47 [==============================] - 92s 2s/step - loss: 1.6806 - accuracy: 0.5164\n",
      "Epoch 14/100\n",
      "47/47 [==============================] - 92s 2s/step - loss: 1.8108 - accuracy: 0.5493\n",
      "Epoch 15/100\n",
      "47/47 [==============================] - 92s 2s/step - loss: 1.4365 - accuracy: 0.5771\n",
      "Epoch 16/100\n",
      "47/47 [==============================] - 92s 2s/step - loss: 1.4200 - accuracy: 0.5757\n",
      "Epoch 17/100\n",
      "47/47 [==============================] - 92s 2s/step - loss: 1.4252 - accuracy: 0.6064\n",
      "Epoch 18/100\n",
      "47/47 [==============================] - 92s 2s/step - loss: 1.2983 - accuracy: 0.6371\n",
      "Epoch 19/100\n",
      "47/47 [==============================] - 92s 2s/step - loss: 1.1460 - accuracy: 0.6636\n",
      "Epoch 20/100\n",
      "47/47 [==============================] - 92s 2s/step - loss: 1.1474 - accuracy: 0.6607\n",
      "Epoch 21/100\n",
      "47/47 [==============================] - 92s 2s/step - loss: 1.0551 - accuracy: 0.6886\n",
      "Epoch 22/100\n",
      "47/47 [==============================] - 92s 2s/step - loss: 1.0544 - accuracy: 0.7150\n",
      "Epoch 23/100\n",
      "47/47 [==============================] - 92s 2s/step - loss: 1.0161 - accuracy: 0.7214\n",
      "Epoch 24/100\n",
      "47/47 [==============================] - 92s 2s/step - loss: 0.8425 - accuracy: 0.7607\n",
      "Epoch 25/100\n",
      "47/47 [==============================] - 92s 2s/step - loss: 0.9045 - accuracy: 0.7536\n",
      "Epoch 26/100\n",
      "47/47 [==============================] - 95s 2s/step - loss: 0.8946 - accuracy: 0.7686\n",
      "Epoch 27/100\n",
      "47/47 [==============================] - 92s 2s/step - loss: 0.6659 - accuracy: 0.7957\n",
      "Epoch 28/100\n",
      "47/47 [==============================] - 92s 2s/step - loss: 0.7829 - accuracy: 0.7979\n",
      "Epoch 29/100\n",
      "47/47 [==============================] - 92s 2s/step - loss: 0.7060 - accuracy: 0.8000\n",
      "Epoch 30/100\n",
      "47/47 [==============================] - 94s 2s/step - loss: 0.6057 - accuracy: 0.8393\n",
      "Epoch 31/100\n",
      "47/47 [==============================] - 95s 2s/step - loss: 0.7699 - accuracy: 0.7986\n",
      "Epoch 32/100\n",
      "47/47 [==============================] - 96s 2s/step - loss: 0.4720 - accuracy: 0.8521\n",
      "Epoch 33/100\n",
      "47/47 [==============================] - 92s 2s/step - loss: 0.7479 - accuracy: 0.8179\n",
      "Epoch 34/100\n",
      "47/47 [==============================] - 94s 2s/step - loss: 0.5731 - accuracy: 0.8586\n",
      "Epoch 35/100\n",
      "47/47 [==============================] - 102s 2s/step - loss: 0.6122 - accuracy: 0.8693\n",
      "Epoch 36/100\n",
      "47/47 [==============================] - 94s 2s/step - loss: 0.7347 - accuracy: 0.8543\n",
      "Epoch 37/100\n",
      "47/47 [==============================] - 93s 2s/step - loss: 0.5161 - accuracy: 0.8907\n",
      "Epoch 38/100\n",
      "47/47 [==============================] - 94s 2s/step - loss: 0.5153 - accuracy: 0.8729\n",
      "Epoch 39/100\n",
      "47/47 [==============================] - 96s 2s/step - loss: 0.6016 - accuracy: 0.8821\n",
      "Epoch 40/100\n",
      "47/47 [==============================] - 99s 2s/step - loss: 0.5890 - accuracy: 0.8750\n",
      "Epoch 41/100\n",
      "47/47 [==============================] - 101s 2s/step - loss: 0.3725 - accuracy: 0.8986\n",
      "Epoch 42/100\n",
      "47/47 [==============================] - 98s 2s/step - loss: 0.5678 - accuracy: 0.8750\n",
      "Epoch 43/100\n",
      "47/47 [==============================] - 94s 2s/step - loss: 0.3955 - accuracy: 0.9086\n",
      "Epoch 44/100\n",
      "47/47 [==============================] - 101s 2s/step - loss: 0.3799 - accuracy: 0.9000\n",
      "Epoch 45/100\n",
      "47/47 [==============================] - 100s 2s/step - loss: 0.5724 - accuracy: 0.9093\n",
      "Epoch 46/100\n",
      "47/47 [==============================] - 99s 2s/step - loss: 0.4504 - accuracy: 0.9050\n",
      "Epoch 47/100\n",
      "47/47 [==============================] - 101s 2s/step - loss: 0.5553 - accuracy: 0.9093\n",
      "Epoch 48/100\n",
      "47/47 [==============================] - 99s 2s/step - loss: 0.4069 - accuracy: 0.9086\n",
      "Epoch 49/100\n",
      "47/47 [==============================] - 98s 2s/step - loss: 0.2640 - accuracy: 0.9307\n",
      "Epoch 50/100\n",
      "47/47 [==============================] - 99s 2s/step - loss: 0.3565 - accuracy: 0.9264\n",
      "Epoch 51/100\n",
      "47/47 [==============================] - 99s 2s/step - loss: 0.3841 - accuracy: 0.9064\n",
      "Epoch 52/100\n",
      "47/47 [==============================] - 93s 2s/step - loss: 0.2508 - accuracy: 0.9414\n",
      "Epoch 53/100\n",
      "47/47 [==============================] - 94s 2s/step - loss: 0.4470 - accuracy: 0.9286\n",
      "Epoch 54/100\n",
      "47/47 [==============================] - 94s 2s/step - loss: 0.4654 - accuracy: 0.9043\n",
      "Epoch 55/100\n",
      "47/47 [==============================] - 97s 2s/step - loss: 0.3695 - accuracy: 0.9300\n",
      "Epoch 56/100\n",
      "47/47 [==============================] - 95s 2s/step - loss: 0.3225 - accuracy: 0.9371\n",
      "Epoch 57/100\n",
      "47/47 [==============================] - 96s 2s/step - loss: 0.3373 - accuracy: 0.9214\n",
      "Epoch 00057: early stopping\n"
     ]
    },
    {
     "data": {
      "text/plain": [
       "<tensorflow.python.keras.callbacks.History at 0x7f86eb727c70>"
      ]
     },
     "execution_count": 26,
     "metadata": {},
     "output_type": "execute_result"
    }
   ],
   "source": [
    " model.fit(X_train, y_train, epochs=100, batch_size=30, callbacks=[tboard_callback, callbacks])"
   ]
  },
  {
   "cell_type": "code",
   "execution_count": 27,
   "metadata": {},
   "outputs": [
    {
     "name": "stdout",
     "output_type": "stream",
     "text": [
      "19/19 [==============================] - 11s 566ms/step - loss: 5.9653 - accuracy: 0.6067\n",
      "[5.965286731719971, 0.6066666841506958]\n"
     ]
    }
   ],
   "source": [
    "predictions = model.predict(X_test)\n",
    "score = model.evaluate(X_test, y_test)\n",
    "print(score)"
   ]
  },
  {
   "cell_type": "code",
   "execution_count": 28,
   "metadata": {},
   "outputs": [
    {
     "data": {
      "text/html": [
       "\n",
       "      <iframe id=\"tensorboard-frame-91b65fea5c0b11fe\" width=\"100%\" height=\"800\" frameborder=\"0\">\n",
       "      </iframe>\n",
       "      <script>\n",
       "        (function() {\n",
       "          const frame = document.getElementById(\"tensorboard-frame-91b65fea5c0b11fe\");\n",
       "          const url = new URL(\"/\", window.location);\n",
       "          const port = 6007;\n",
       "          if (port) {\n",
       "            url.port = port;\n",
       "          }\n",
       "          frame.src = url;\n",
       "        })();\n",
       "      </script>\n",
       "    "
      ],
      "text/plain": [
       "<IPython.core.display.HTML object>"
      ]
     },
     "metadata": {},
     "output_type": "display_data"
    }
   ],
   "source": [
    "%tensorboard --logdir logs"
   ]
  },
  {
   "cell_type": "code",
   "execution_count": null,
   "metadata": {},
   "outputs": [],
   "source": []
  }
 ],
 "metadata": {
  "kernelspec": {
   "display_name": "Python 3",
   "language": "python",
   "name": "python3"
  },
  "language_info": {
   "codemirror_mode": {
    "name": "ipython",
    "version": 3
   },
   "file_extension": ".py",
   "mimetype": "text/x-python",
   "name": "python",
   "nbconvert_exporter": "python",
   "pygments_lexer": "ipython3",
   "version": "3.8.5"
  }
 },
 "nbformat": 4,
 "nbformat_minor": 4
}
