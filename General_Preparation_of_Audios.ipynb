{
 "cells": [
  {
   "cell_type": "markdown",
   "metadata": {},
   "source": [
    "# General Prepearation of Audios"
   ]
  },
  {
   "cell_type": "markdown",
   "metadata": {},
   "source": [
    "This program gets audio files from different directories and saves them all into the same directory. It also changes file's names in order to have a good codification of where each sound comes from. In order to use this programm it's necessary to store the files in different folder so they are grouped by their category, it's also important to name every directory as the category of the audios that are inside it. You also need to store all this folder into another folder called AUDIO_FOLDERS. The programm will create a new folder called ALL_AUDIOS with the renamed audios and it also will create \"codification.csv\", a dataframe with the codification used when renaming the audios."
   ]
  },
  {
   "cell_type": "markdown",
   "metadata": {},
   "source": [
    "WARNING: This programm does not open the audios, so modifications such as cutting them must be done in other programms."
   ]
  },
  {
   "cell_type": "markdown",
   "metadata": {},
   "source": [
    "First we import the packages that will be needed:"
   ]
  },
  {
   "cell_type": "code",
   "execution_count": 1,
   "metadata": {},
   "outputs": [],
   "source": [
    "import numpy as np\n",
    "import pandas as pd\n",
    "\n",
    "import librosa\n",
    "\n",
    "import librosa.display\n",
    "import matplotlib.pyplot as plt\n",
    "\n",
    "import os\n",
    "import re\n",
    "import shutil"
   ]
  },
  {
   "cell_type": "markdown",
   "metadata": {},
   "source": [
    "Secondly we define the constants, that must be introduced through the terminal: CAL ARREGLAR TERMINAL\n"
   ]
  },
  {
   "cell_type": "code",
   "execution_count": 11,
   "metadata": {},
   "outputs": [],
   "source": [
    "#Write your path to AUDIO_FOLDERS here\n",
    "DIRECTORY = '/home/belen_alastruey/PYTHON/SoundDatabase/MIMII/AUDIO_FOLDERS/'"
   ]
  },
  {
   "cell_type": "markdown",
   "metadata": {},
   "source": [
    "Now we define the function rename_and_save, that renames the audios acording to the codification in a dataset (that we will create in the following lines) and stores them in a new directory."
   ]
  },
  {
   "cell_type": "code",
   "execution_count": 3,
   "metadata": {},
   "outputs": [],
   "source": [
    "def rename_and_save(dictionary):\n",
    "    os.mkdir(DIRECTORY + 'ALL_AUDIOS')\n",
    "    for i in dictionary:\n",
    "        list_files = os.listdir(str(dictionary[i]))\n",
    "        n = 0\n",
    "        CODE = df['code_id'].loc[df['category']== str(i)].to_string(index=False)\n",
    "        for audio in list_files:\n",
    "            src_dir = dictionary[i] + '/'+ audio\n",
    "            dst_dir = DIRECTORY + 'ALL_AUDIOS/'+ str(n) + '-' +CODE+'.wav'\n",
    "            shutil.copy(src_dir,dst_dir)\n",
    "            n = n +1"
   ]
  },
  {
   "cell_type": "markdown",
   "metadata": {},
   "source": [
    "Once the functions are defined, we proceed to start the main part of the programm, first we create a list with the names of the folders where our audios are, and then we create a list with the paths to theese folders."
   ]
  },
  {
   "cell_type": "code",
   "execution_count": 4,
   "metadata": {},
   "outputs": [],
   "source": [
    "l = [x[1] for x in os.walk(DIRECTORY)]\n",
    "folders = l[0]"
   ]
  },
  {
   "cell_type": "code",
   "execution_count": 9,
   "metadata": {},
   "outputs": [
    {
     "name": "stdout",
     "output_type": "stream",
     "text": [
      "['/home/belen_alastruey/PYTHON/SoundDatabase/MIMII/AUDIO_FOLDERS/.ipynb_checkpoints', '/home/belen_alastruey/PYTHON/SoundDatabase/MIMII/AUDIO_FOLDERS/fan00', '/home/belen_alastruey/PYTHON/SoundDatabase/MIMII/AUDIO_FOLDERS/fan02', '/home/belen_alastruey/PYTHON/SoundDatabase/MIMII/AUDIO_FOLDERS/fan04', '/home/belen_alastruey/PYTHON/SoundDatabase/MIMII/AUDIO_FOLDERS/ALL_AUDIOS']\n"
     ]
    }
   ],
   "source": [
    "paths = [x[0] for x in os.walk(DIRECTORY)]\n",
    "\n",
    "paths.remove(paths[0])\n",
    "print(paths)"
   ]
  },
  {
   "cell_type": "markdown",
   "metadata": {},
   "source": [
    "Now a dataframe is created with the name of the catagories (or the name of the directories, sinche they must be the same)."
   ]
  },
  {
   "cell_type": "code",
   "execution_count": 10,
   "metadata": {},
   "outputs": [],
   "source": [
    "codes_dictionary = {'code_id': np.arange(len(folders)).tolist(), \n",
    "       'category': folders}\n",
    "col = ['code_id','category']\n",
    "df = pd.DataFrame(codes_dictionary, columns = col)\n",
    "df\n",
    "df.to_csv('codification.csv')"
   ]
  },
  {
   "cell_type": "markdown",
   "metadata": {},
   "source": [
    "Using paths and folders lists we create a dictionary with the path to each folder"
   ]
  },
  {
   "cell_type": "code",
   "execution_count": 7,
   "metadata": {},
   "outputs": [],
   "source": [
    "paths_dictionary = {} \n",
    "for key in folders: \n",
    "    for value in paths: \n",
    "        paths_dictionary[key] = value \n",
    "        paths.remove(value)\n",
    "        break \n",
    "        "
   ]
  },
  {
   "cell_type": "markdown",
   "metadata": {},
   "source": [
    "Finally we use rename_and_save function to store the renamed audios in a single new folder."
   ]
  },
  {
   "cell_type": "code",
   "execution_count": 8,
   "metadata": {},
   "outputs": [],
   "source": [
    "rename_and_save(paths_dictionary)"
   ]
  }
 ],
 "metadata": {
  "kernelspec": {
   "display_name": "Python 3",
   "language": "python",
   "name": "python3"
  },
  "language_info": {
   "codemirror_mode": {
    "name": "ipython",
    "version": 3
   },
   "file_extension": ".py",
   "mimetype": "text/x-python",
   "name": "python",
   "nbconvert_exporter": "python",
   "pygments_lexer": "ipython3",
   "version": "3.8.5"
  }
 },
 "nbformat": 4,
 "nbformat_minor": 4
}
