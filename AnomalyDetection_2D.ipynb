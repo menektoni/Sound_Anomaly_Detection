{
 "cells": [
  {
   "cell_type": "markdown",
   "metadata": {},
   "source": [
    "# Anomaly detection"
   ]
  },
  {
   "cell_type": "markdown",
   "metadata": {},
   "source": [
    "## Imports and functions"
   ]
  },
  {
   "cell_type": "code",
   "execution_count": 1,
   "metadata": {},
   "outputs": [],
   "source": [
    "import pandas as pd\n",
    "import numpy as np\n",
    "\n",
    "import tensorflow as tf\n",
    "from tensorflow import keras\n",
    "\n",
    "from functools import partial\n",
    "import re\n",
    "import os\n",
    "\n",
    "from tensorflow.keras import models"
   ]
  },
  {
   "cell_type": "code",
   "execution_count": 2,
   "metadata": {},
   "outputs": [],
   "source": [
    "def load_files_list(directory):\n",
    "    '''\n",
    "    Load the audiofiles inside a directory.\n",
    "    '''\n",
    "    return os.listdir(directory)"
   ]
  },
  {
   "cell_type": "markdown",
   "metadata": {},
   "source": [
    "## Loading the model"
   ]
  },
  {
   "cell_type": "code",
   "execution_count": 6,
   "metadata": {},
   "outputs": [],
   "source": [
    "model = keras.models.load_model('baseline_slider_allids.h5')\n",
    "model.trainable = False"
   ]
  },
  {
   "cell_type": "markdown",
   "metadata": {},
   "source": [
    "## Loading the dataset with anomalies"
   ]
  },
  {
   "cell_type": "code",
   "execution_count": 7,
   "metadata": {},
   "outputs": [],
   "source": [
    "DIRECTORY = '/home/belen_alastruey/PYTHON/Autoencoder/'"
   ]
  },
  {
   "cell_type": "code",
   "execution_count": 8,
   "metadata": {},
   "outputs": [],
   "source": [
    "anomalies_path = DIRECTORY + 'MEL_ANOMALY/'"
   ]
  },
  {
   "cell_type": "code",
   "execution_count": 9,
   "metadata": {},
   "outputs": [],
   "source": [
    "files = load_files_list(anomalies_path)"
   ]
  },
  {
   "cell_type": "markdown",
   "metadata": {},
   "source": [
    "### Read .npy"
   ]
  },
  {
   "cell_type": "code",
   "execution_count": 10,
   "metadata": {},
   "outputs": [],
   "source": [
    "descriptors_anomalies = []\n",
    "labels = []\n",
    "for file in files:\n",
    "    if (\"slider\" in file) and ('abnormal'in file):\n",
    "        descr = np.load(anomalies_path + file)\n",
    "        descriptors_anomalies.append(descr)\n",
    "        labels.append(re.split(r'_', file)[1])"
   ]
  },
  {
   "cell_type": "code",
   "execution_count": 11,
   "metadata": {},
   "outputs": [],
   "source": [
    "descr = np.asarray(descriptors_anomalies)\n",
    "labels = np.asarray(labels)"
   ]
  },
  {
   "cell_type": "code",
   "execution_count": 12,
   "metadata": {},
   "outputs": [
    {
     "data": {
      "text/plain": [
       "(356, 128, 216)"
      ]
     },
     "execution_count": 12,
     "metadata": {},
     "output_type": "execute_result"
    }
   ],
   "source": [
    "descr.shape"
   ]
  },
  {
   "cell_type": "code",
   "execution_count": 13,
   "metadata": {
    "scrolled": true
   },
   "outputs": [],
   "source": [
    "descr_anomaly = descr\n",
    "label_anomaly = labels"
   ]
  },
  {
   "cell_type": "markdown",
   "metadata": {},
   "source": [
    "## Loading the dataset without anomalies"
   ]
  },
  {
   "cell_type": "code",
   "execution_count": 14,
   "metadata": {},
   "outputs": [],
   "source": [
    "DIRECTORY = '/home/belen_alastruey/PYTHON/Autoencoder/'"
   ]
  },
  {
   "cell_type": "code",
   "execution_count": 15,
   "metadata": {},
   "outputs": [],
   "source": [
    "path = DIRECTORY + 'MEL/'"
   ]
  },
  {
   "cell_type": "code",
   "execution_count": 16,
   "metadata": {},
   "outputs": [],
   "source": [
    "files = load_files_list(path)"
   ]
  },
  {
   "cell_type": "markdown",
   "metadata": {},
   "source": [
    "### Read .npy"
   ]
  },
  {
   "cell_type": "code",
   "execution_count": 17,
   "metadata": {},
   "outputs": [],
   "source": [
    "descriptors_normal= []\n",
    "for file in files:\n",
    "    if \"slider_id00\" in file:\n",
    "        descr = np.load(path + file)\n",
    "        descriptors_normal.append(descr)"
   ]
  },
  {
   "cell_type": "code",
   "execution_count": 18,
   "metadata": {},
   "outputs": [],
   "source": [
    "from sklearn.model_selection import train_test_split"
   ]
  },
  {
   "cell_type": "code",
   "execution_count": 19,
   "metadata": {},
   "outputs": [],
   "source": [
    "do_not_use, descr = train_test_split(descriptors_normal,test_size=0.15, random_state=100)"
   ]
  },
  {
   "cell_type": "code",
   "execution_count": 20,
   "metadata": {},
   "outputs": [],
   "source": [
    "descr = np.asarray(descr)\n",
    "labels = np.zeros(descr.shape[0])"
   ]
  },
  {
   "cell_type": "code",
   "execution_count": 21,
   "metadata": {},
   "outputs": [
    {
     "data": {
      "text/plain": [
       "(161, 128, 216)"
      ]
     },
     "execution_count": 21,
     "metadata": {},
     "output_type": "execute_result"
    }
   ],
   "source": [
    "descr.shape"
   ]
  },
  {
   "cell_type": "markdown",
   "metadata": {},
   "source": [
    "## Create X_train"
   ]
  },
  {
   "cell_type": "code",
   "execution_count": 22,
   "metadata": {
    "scrolled": true
   },
   "outputs": [],
   "source": [
    "X_train = np.concatenate((descr, descr_anomaly), axis = 0)\n",
    "y_train = np.concatenate((labels ,label_anomaly), axis = 0)"
   ]
  },
  {
   "cell_type": "code",
   "execution_count": 23,
   "metadata": {},
   "outputs": [
    {
     "data": {
      "text/plain": [
       "array(['0.0', '0.0', '0.0', '0.0', '0.0', '0.0', '0.0', '0.0', '0.0',\n",
       "       '0.0', '0.0', '0.0', '0.0', '0.0', '0.0', '0.0', '0.0', '0.0',\n",
       "       '0.0', '0.0', '0.0', '0.0', '0.0', '0.0', '0.0', '0.0', '0.0',\n",
       "       '0.0', '0.0', '0.0', '0.0', '0.0', '0.0', '0.0', '0.0', '0.0',\n",
       "       '0.0', '0.0', '0.0', '0.0', '0.0', '0.0', '0.0', '0.0', '0.0',\n",
       "       '0.0', '0.0', '0.0', '0.0', '0.0', '0.0', '0.0', '0.0', '0.0',\n",
       "       '0.0', '0.0', '0.0', '0.0', '0.0', '0.0', '0.0', '0.0', '0.0',\n",
       "       '0.0', '0.0', '0.0', '0.0', '0.0', '0.0', '0.0', '0.0', '0.0',\n",
       "       '0.0', '0.0', '0.0', '0.0', '0.0', '0.0', '0.0', '0.0', '0.0',\n",
       "       '0.0', '0.0', '0.0', '0.0', '0.0', '0.0', '0.0', '0.0', '0.0',\n",
       "       '0.0', '0.0', '0.0', '0.0', '0.0', '0.0', '0.0', '0.0', '0.0',\n",
       "       '0.0', '0.0', '0.0', '0.0', '0.0', '0.0', '0.0', '0.0', '0.0',\n",
       "       '0.0', '0.0', '0.0', '0.0', '0.0', '0.0', '0.0', '0.0', '0.0',\n",
       "       '0.0', '0.0', '0.0', '0.0', '0.0', '0.0', '0.0', '0.0', '0.0',\n",
       "       '0.0', '0.0', '0.0', '0.0', '0.0', '0.0', '0.0', '0.0', '0.0',\n",
       "       '0.0', '0.0', '0.0', '0.0', '0.0', '0.0', '0.0', '0.0', '0.0',\n",
       "       '0.0', '0.0', '0.0', '0.0', '0.0', '0.0', '0.0', '0.0', '0.0',\n",
       "       '0.0', '0.0', '0.0', '0.0', '0.0', '0.0', '0.0', '0.0', 'abnormal',\n",
       "       'abnormal', 'abnormal', 'abnormal', 'abnormal', 'abnormal',\n",
       "       'abnormal', 'abnormal', 'abnormal', 'abnormal', 'abnormal',\n",
       "       'abnormal', 'abnormal', 'abnormal', 'abnormal', 'abnormal',\n",
       "       'abnormal', 'abnormal', 'abnormal', 'abnormal', 'abnormal',\n",
       "       'abnormal', 'abnormal', 'abnormal', 'abnormal', 'abnormal',\n",
       "       'abnormal', 'abnormal', 'abnormal', 'abnormal', 'abnormal',\n",
       "       'abnormal', 'abnormal', 'abnormal', 'abnormal', 'abnormal',\n",
       "       'abnormal', 'abnormal', 'abnormal', 'abnormal', 'abnormal',\n",
       "       'abnormal', 'abnormal', 'abnormal', 'abnormal', 'abnormal',\n",
       "       'abnormal', 'abnormal', 'abnormal', 'abnormal', 'abnormal',\n",
       "       'abnormal', 'abnormal', 'abnormal', 'abnormal', 'abnormal',\n",
       "       'abnormal', 'abnormal', 'abnormal', 'abnormal', 'abnormal',\n",
       "       'abnormal', 'abnormal', 'abnormal', 'abnormal', 'abnormal',\n",
       "       'abnormal', 'abnormal', 'abnormal', 'abnormal', 'abnormal',\n",
       "       'abnormal', 'abnormal', 'abnormal', 'abnormal', 'abnormal',\n",
       "       'abnormal', 'abnormal', 'abnormal', 'abnormal', 'abnormal',\n",
       "       'abnormal', 'abnormal', 'abnormal', 'abnormal', 'abnormal',\n",
       "       'abnormal', 'abnormal', 'abnormal', 'abnormal', 'abnormal',\n",
       "       'abnormal', 'abnormal', 'abnormal', 'abnormal', 'abnormal',\n",
       "       'abnormal', 'abnormal', 'abnormal', 'abnormal', 'abnormal',\n",
       "       'abnormal', 'abnormal', 'abnormal', 'abnormal', 'abnormal',\n",
       "       'abnormal', 'abnormal', 'abnormal', 'abnormal', 'abnormal',\n",
       "       'abnormal', 'abnormal', 'abnormal', 'abnormal', 'abnormal',\n",
       "       'abnormal', 'abnormal', 'abnormal', 'abnormal', 'abnormal',\n",
       "       'abnormal', 'abnormal', 'abnormal', 'abnormal', 'abnormal',\n",
       "       'abnormal', 'abnormal', 'abnormal', 'abnormal', 'abnormal',\n",
       "       'abnormal', 'abnormal', 'abnormal', 'abnormal', 'abnormal',\n",
       "       'abnormal', 'abnormal', 'abnormal', 'abnormal', 'abnormal',\n",
       "       'abnormal', 'abnormal', 'abnormal', 'abnormal', 'abnormal',\n",
       "       'abnormal', 'abnormal', 'abnormal', 'abnormal', 'abnormal',\n",
       "       'abnormal', 'abnormal', 'abnormal', 'abnormal', 'abnormal',\n",
       "       'abnormal', 'abnormal', 'abnormal', 'abnormal', 'abnormal',\n",
       "       'abnormal', 'abnormal', 'abnormal', 'abnormal', 'abnormal',\n",
       "       'abnormal', 'abnormal', 'abnormal', 'abnormal', 'abnormal',\n",
       "       'abnormal', 'abnormal', 'abnormal', 'abnormal', 'abnormal',\n",
       "       'abnormal', 'abnormal', 'abnormal', 'abnormal', 'abnormal',\n",
       "       'abnormal', 'abnormal', 'abnormal', 'abnormal', 'abnormal',\n",
       "       'abnormal', 'abnormal', 'abnormal', 'abnormal', 'abnormal',\n",
       "       'abnormal', 'abnormal', 'abnormal', 'abnormal', 'abnormal',\n",
       "       'abnormal', 'abnormal', 'abnormal', 'abnormal', 'abnormal',\n",
       "       'abnormal', 'abnormal', 'abnormal', 'abnormal', 'abnormal',\n",
       "       'abnormal', 'abnormal', 'abnormal', 'abnormal', 'abnormal',\n",
       "       'abnormal', 'abnormal', 'abnormal', 'abnormal', 'abnormal',\n",
       "       'abnormal', 'abnormal', 'abnormal', 'abnormal', 'abnormal',\n",
       "       'abnormal', 'abnormal', 'abnormal', 'abnormal', 'abnormal',\n",
       "       'abnormal', 'abnormal', 'abnormal', 'abnormal', 'abnormal',\n",
       "       'abnormal', 'abnormal', 'abnormal', 'abnormal', 'abnormal',\n",
       "       'abnormal', 'abnormal', 'abnormal', 'abnormal', 'abnormal',\n",
       "       'abnormal', 'abnormal', 'abnormal', 'abnormal', 'abnormal',\n",
       "       'abnormal', 'abnormal', 'abnormal', 'abnormal', 'abnormal',\n",
       "       'abnormal', 'abnormal', 'abnormal', 'abnormal', 'abnormal',\n",
       "       'abnormal', 'abnormal', 'abnormal', 'abnormal', 'abnormal',\n",
       "       'abnormal', 'abnormal', 'abnormal', 'abnormal', 'abnormal',\n",
       "       'abnormal', 'abnormal', 'abnormal', 'abnormal', 'abnormal',\n",
       "       'abnormal', 'abnormal', 'abnormal', 'abnormal', 'abnormal',\n",
       "       'abnormal', 'abnormal', 'abnormal', 'abnormal', 'abnormal',\n",
       "       'abnormal', 'abnormal', 'abnormal', 'abnormal', 'abnormal',\n",
       "       'abnormal', 'abnormal', 'abnormal', 'abnormal', 'abnormal',\n",
       "       'abnormal', 'abnormal', 'abnormal', 'abnormal', 'abnormal',\n",
       "       'abnormal', 'abnormal', 'abnormal', 'abnormal', 'abnormal',\n",
       "       'abnormal', 'abnormal', 'abnormal', 'abnormal', 'abnormal',\n",
       "       'abnormal', 'abnormal', 'abnormal', 'abnormal', 'abnormal',\n",
       "       'abnormal', 'abnormal', 'abnormal', 'abnormal', 'abnormal',\n",
       "       'abnormal', 'abnormal', 'abnormal', 'abnormal', 'abnormal',\n",
       "       'abnormal', 'abnormal', 'abnormal', 'abnormal', 'abnormal',\n",
       "       'abnormal', 'abnormal', 'abnormal', 'abnormal', 'abnormal',\n",
       "       'abnormal', 'abnormal', 'abnormal', 'abnormal', 'abnormal',\n",
       "       'abnormal', 'abnormal', 'abnormal', 'abnormal', 'abnormal',\n",
       "       'abnormal', 'abnormal', 'abnormal', 'abnormal', 'abnormal',\n",
       "       'abnormal', 'abnormal', 'abnormal', 'abnormal', 'abnormal',\n",
       "       'abnormal', 'abnormal', 'abnormal', 'abnormal', 'abnormal'],\n",
       "      dtype='<U32')"
      ]
     },
     "execution_count": 23,
     "metadata": {},
     "output_type": "execute_result"
    }
   ],
   "source": [
    "y_train"
   ]
  },
  {
   "cell_type": "code",
   "execution_count": 24,
   "metadata": {},
   "outputs": [],
   "source": [
    "randomize = np.arange(len(X_train))\n",
    "np.random.shuffle(randomize)\n",
    "X_train = X_train[randomize]\n",
    "y_train = y_train[randomize]"
   ]
  },
  {
   "cell_type": "markdown",
   "metadata": {},
   "source": [
    "### Transformations"
   ]
  },
  {
   "cell_type": "markdown",
   "metadata": {},
   "source": [
    "#### X_train"
   ]
  },
  {
   "cell_type": "code",
   "execution_count": 22,
   "metadata": {},
   "outputs": [],
   "source": [
    "inputs = []\n",
    "for n in range(X_train.shape[0]):\n",
    "    for i in range(211):\n",
    "        a = []\n",
    "        a.append([X_train[n,:,i],X_train[n,:,i+1],X_train[n,:,i+2],X_train[n,:,i+3],X_train[n,:,i+4]])\n",
    "        a = np.asarray(a)\n",
    "        a = a.reshape(640)\n",
    "        inputs.append(a)"
   ]
  },
  {
   "cell_type": "code",
   "execution_count": 23,
   "metadata": {},
   "outputs": [],
   "source": [
    "inputs = np.asarray(inputs)"
   ]
  },
  {
   "cell_type": "code",
   "execution_count": 24,
   "metadata": {},
   "outputs": [
    {
     "data": {
      "text/plain": [
       "(117949, 640)"
      ]
     },
     "execution_count": 24,
     "metadata": {},
     "output_type": "execute_result"
    }
   ],
   "source": [
    "inputs.shape"
   ]
  },
  {
   "cell_type": "markdown",
   "metadata": {},
   "source": [
    "### Predictions"
   ]
  },
  {
   "cell_type": "code",
   "execution_count": 25,
   "metadata": {},
   "outputs": [],
   "source": [
    "pred = model.predict(inputs)"
   ]
  },
  {
   "cell_type": "code",
   "execution_count": 26,
   "metadata": {},
   "outputs": [
    {
     "data": {
      "text/plain": [
       "(117949, 640)"
      ]
     },
     "execution_count": 26,
     "metadata": {},
     "output_type": "execute_result"
    }
   ],
   "source": [
    "inputs.shape"
   ]
  },
  {
   "cell_type": "code",
   "execution_count": 27,
   "metadata": {},
   "outputs": [
    {
     "data": {
      "text/plain": [
       "(117949, 640)"
      ]
     },
     "execution_count": 27,
     "metadata": {},
     "output_type": "execute_result"
    }
   ],
   "source": [
    "pred.shape"
   ]
  },
  {
   "cell_type": "markdown",
   "metadata": {},
   "source": [
    "### Getting the reconstruction error"
   ]
  },
  {
   "cell_type": "code",
   "execution_count": 28,
   "metadata": {},
   "outputs": [],
   "source": [
    "pred2 = pred\n",
    "inputs2 = inputs"
   ]
  },
  {
   "cell_type": "markdown",
   "metadata": {},
   "source": [
    "#### (IGNORAR) Difference + mean"
   ]
  },
  {
   "cell_type": "code",
   "execution_count": 18,
   "metadata": {},
   "outputs": [],
   "source": [
    "error =[]"
   ]
  },
  {
   "cell_type": "code",
   "execution_count": 110,
   "metadata": {},
   "outputs": [],
   "source": [
    "#DO NOT USE\n",
    "for i in range(X_train.shape[0]):\n",
    "    e = np.mean(pred2[:211]-inputs2[:211])\n",
    "    error.append(e)\n",
    "    pred2 = pred2[211:]\n",
    "    inputs2 = inputs2[211:]"
   ]
  },
  {
   "cell_type": "code",
   "execution_count": 111,
   "metadata": {},
   "outputs": [],
   "source": [
    "error = np.asarray(error)"
   ]
  },
  {
   "cell_type": "code",
   "execution_count": 112,
   "metadata": {},
   "outputs": [
    {
     "data": {
      "text/plain": [
       "(996,)"
      ]
     },
     "execution_count": 112,
     "metadata": {},
     "output_type": "execute_result"
    }
   ],
   "source": [
    "error.shape"
   ]
  },
  {
   "cell_type": "markdown",
   "metadata": {},
   "source": [
    "#### As in the article"
   ]
  },
  {
   "cell_type": "code",
   "execution_count": 29,
   "metadata": {},
   "outputs": [],
   "source": [
    "error = [] #llsta amb un error per cada imatge"
   ]
  },
  {
   "cell_type": "code",
   "execution_count": 30,
   "metadata": {},
   "outputs": [],
   "source": [
    "for i in range(X_train.shape[0]):\n",
    "    valors_sumar = []\n",
    "    for j in range(211):\n",
    "        e = np.linalg.norm(pred2[j]-inputs2[j], ord = 2)\n",
    "        valors_sumar.append(e)\n",
    "    pred2 = pred2[211:]\n",
    "    inputs2 = inputs2[211:]\n",
    "    error.append((sum(valors_sumar)/(640*211)))"
   ]
  },
  {
   "cell_type": "code",
   "execution_count": 31,
   "metadata": {},
   "outputs": [],
   "source": [
    "error = np.asarray(error)"
   ]
  },
  {
   "cell_type": "code",
   "execution_count": 32,
   "metadata": {},
   "outputs": [
    {
     "data": {
      "text/plain": [
       "(559,)"
      ]
     },
     "execution_count": 32,
     "metadata": {},
     "output_type": "execute_result"
    }
   ],
   "source": [
    "error.shape"
   ]
  },
  {
   "cell_type": "markdown",
   "metadata": {},
   "source": [
    "### Plots\n"
   ]
  },
  {
   "cell_type": "code",
   "execution_count": 33,
   "metadata": {},
   "outputs": [],
   "source": [
    "from matplotlib import pyplot as plt"
   ]
  },
  {
   "cell_type": "code",
   "execution_count": 34,
   "metadata": {},
   "outputs": [
    {
     "data": {
      "image/png": "[encoded data removed]",
      "text/plain": [
       "<Figure size 432x288 with 1 Axes>"
      ]
     },
     "metadata": {
      "needs_background": "light"
     },
     "output_type": "display_data"
    }
   ],
   "source": [
    "#tots els errors\n",
    "plt.hist(error)\n",
    "plt.title('Reconstruction error')\n",
    "plt.ylabel('count')\n",
    "\n",
    "plt.show()"
   ]
  },
  {
   "cell_type": "code",
   "execution_count": 35,
   "metadata": {},
   "outputs": [],
   "source": [
    "errors_normal = []\n",
    "errors_abnormal = []\n",
    "for e, label in zip(error, y_train):\n",
    "    if label == 'abnormal':\n",
    "        errors_abnormal.append(e)\n",
    "    else:\n",
    "        errors_normal.append(e)"
   ]
  },
  {
   "cell_type": "code",
   "execution_count": 36,
   "metadata": {},
   "outputs": [
    {
     "data": {
      "image/png": "[encoded data removed]",
      "text/plain": [
       "<Figure size 432x288 with 1 Axes>"
      ]
     },
     "metadata": {
      "needs_background": "light"
     },
     "output_type": "display_data"
    }
   ],
   "source": [
    "plt.hist(errors_normal,bins=20, alpha=0.5)\n",
    "plt.hist(errors_abnormal,bins=20, alpha=0.5)\n",
    "plt.title('Reconstruction error')\n",
    "plt.ylabel('count')\n",
    "\n",
    "plt.show()"
   ]
  },
  {
   "cell_type": "markdown",
   "metadata": {},
   "source": [
    "## AUC"
   ]
  },
  {
   "cell_type": "code",
   "execution_count": 37,
   "metadata": {},
   "outputs": [],
   "source": [
    "y_train2 = np.zeros(X_train.shape[0])"
   ]
  },
  {
   "cell_type": "code",
   "execution_count": 38,
   "metadata": {},
   "outputs": [],
   "source": [
    "for i in range(len(y_train2)):\n",
    "    if y_train[i] == 'abnormal':\n",
    "        y_train2[i] = 1"
   ]
  },
  {
   "cell_type": "code",
   "execution_count": 39,
   "metadata": {},
   "outputs": [
    {
     "data": {
      "text/plain": [
       "(559,)"
      ]
     },
     "execution_count": 39,
     "metadata": {},
     "output_type": "execute_result"
    }
   ],
   "source": [
    "y_train2.shape"
   ]
  },
  {
   "cell_type": "code",
   "execution_count": 40,
   "metadata": {},
   "outputs": [],
   "source": [
    "import numpy as np\n",
    "from sklearn import metrics"
   ]
  },
  {
   "cell_type": "code",
   "execution_count": 41,
   "metadata": {},
   "outputs": [],
   "source": [
    "y_train2=[float(i) for i in y_train2]\n",
    "y_train2 = np.asarray(y_train2)"
   ]
  },
  {
   "cell_type": "markdown",
   "metadata": {},
   "source": [
    "## AUC amb la funcio de sklearn"
   ]
  },
  {
   "cell_type": "code",
   "execution_count": 42,
   "metadata": {},
   "outputs": [],
   "source": [
    "fpr, tpr, thresholds = metrics.roc_curve(y_train2, error)"
   ]
  },
  {
   "cell_type": "code",
   "execution_count": 43,
   "metadata": {},
   "outputs": [
    {
     "data": {
      "text/plain": [
       "0.9169145221776802"
      ]
     },
     "execution_count": 43,
     "metadata": {},
     "output_type": "execute_result"
    }
   ],
   "source": [
    "metrics.auc(fpr, tpr)"
   ]
  },
  {
   "cell_type": "markdown",
   "metadata": {},
   "source": [
    "## AUC manual com al article"
   ]
  },
  {
   "cell_type": "code",
   "execution_count": 44,
   "metadata": {},
   "outputs": [],
   "source": [
    "c = 0"
   ]
  },
  {
   "cell_type": "code",
   "execution_count": 45,
   "metadata": {},
   "outputs": [],
   "source": [
    "for e_a in errors_abnormal:\n",
    "    for e_n in errors_normal:\n",
    "        c+= e_a > e_n\n",
    "        \n",
    "c = c/(len(errors_abnormal)*len(errors_normal))"
   ]
  },
  {
   "cell_type": "code",
   "execution_count": 46,
   "metadata": {},
   "outputs": [
    {
     "data": {
      "text/plain": [
       "0.9169145221776801"
      ]
     },
     "execution_count": 46,
     "metadata": {},
     "output_type": "execute_result"
    }
   ],
   "source": [
    "c"
   ]
  },
  {
   "cell_type": "code",
   "execution_count": null,
   "metadata": {},
   "outputs": [],
   "source": []
  }
 ],
 "metadata": {
  "kernelspec": {
   "display_name": "Python 3",
   "language": "python",
   "name": "python3"
  },
  "language_info": {
   "codemirror_mode": {
    "name": "ipython",
    "version": 3
   },
   "file_extension": ".py",
   "mimetype": "text/x-python",
   "name": "python",
   "nbconvert_exporter": "python",
   "pygments_lexer": "ipython3",
   "version": "3.8.5"
  }
 },
 "nbformat": 4,
 "nbformat_minor": 4
}
