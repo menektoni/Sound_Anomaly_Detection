{
 "cells": [
  {
   "cell_type": "code",
   "execution_count": 20,
   "metadata": {},
   "outputs": [],
   "source": [
    "import pandas as pd\n",
    "import numpy as np\n",
    "import seaborn as sns"
   ]
  },
  {
   "cell_type": "code",
   "execution_count": 4,
   "metadata": {},
   "outputs": [],
   "source": [
    "array = np.load('results.npy')"
   ]
  },
  {
   "cell_type": "code",
   "execution_count": 5,
   "metadata": {},
   "outputs": [
    {
     "data": {
      "text/plain": [
       "array(['fan', '00', '0.5620563538781164', 'fan', '02',\n",
       "       '0.6479118516527815', 'fan', '04', '0.5934339229968782', 'fan',\n",
       "       '06', '0.8572856758935768', 'pump', '00', '0.35693676952418213',\n",
       "       'pump', '02', '0.6105835565295025', 'pump', '04', '0.8009', 'pump',\n",
       "       '06', '0.6441753171856979', 'slider', '00', '0.9693228908880932',\n",
       "       'slider', '02', '0.8383761870695339', 'slider', '04',\n",
       "       '0.8331468693337449', 'slider', '06', '0.3446534528468628',\n",
       "       'valve', '00', '0.6795424051973732', 'valve', '02',\n",
       "       '0.7336111111111112', 'valve', '04', '0.4576388888888889', 'valve',\n",
       "       '06', '0.5276388888888889'], dtype='<U19')"
      ]
     },
     "execution_count": 5,
     "metadata": {},
     "output_type": "execute_result"
    }
   ],
   "source": [
    "array"
   ]
  },
  {
   "cell_type": "code",
   "execution_count": 32,
   "metadata": {},
   "outputs": [],
   "source": [
    "data = [[0.5620563538781164, 0.6479118516527815, 0.5934339229968782, 0.8572856758935768],\n",
    "        [0.35693676952418213, 0.6105835565295025, 0.8009, 0.6441753171856979], \n",
    "        [0.9693228908880932, 0.8383761870695339, 0.8331468693337449, 0.3446534528468628], \n",
    "        [0.6795424051973732, 0.7336111111111112, 0.4576388888888889, 0.5276388888888889]]"
   ]
  },
  {
   "cell_type": "code",
   "execution_count": 36,
   "metadata": {},
   "outputs": [],
   "source": [
    "df = pd.DataFrame(data, index = ['0.0', '2.0', '4.0', '6.0'], columns=['FAN', 'SLIDER', 'PUMP', 'VALVE'])"
   ]
  },
  {
   "cell_type": "code",
   "execution_count": 37,
   "metadata": {},
   "outputs": [],
   "source": [
    "df.loc['mean'] = df.mean()\n",
    "df.replace(3.0, 'mean', inplace = True)"
   ]
  },
  {
   "cell_type": "code",
   "execution_count": 38,
   "metadata": {},
   "outputs": [
    {
     "data": {
      "text/html": [
       "<div>\n",
       "<style scoped>\n",
       "    .dataframe tbody tr th:only-of-type {\n",
       "        vertical-align: middle;\n",
       "    }\n",
       "\n",
       "    .dataframe tbody tr th {\n",
       "        vertical-align: top;\n",
       "    }\n",
       "\n",
       "    .dataframe thead th {\n",
       "        text-align: right;\n",
       "    }\n",
       "</style>\n",
       "<table border=\"1\" class=\"dataframe\">\n",
       "  <thead>\n",
       "    <tr style=\"text-align: right;\">\n",
       "      <th></th>\n",
       "      <th>FAN</th>\n",
       "      <th>SLIDER</th>\n",
       "      <th>PUMP</th>\n",
       "      <th>VALVE</th>\n",
       "    </tr>\n",
       "  </thead>\n",
       "  <tbody>\n",
       "    <tr>\n",
       "      <th>0.0</th>\n",
       "      <td>0.562056</td>\n",
       "      <td>0.647912</td>\n",
       "      <td>0.593434</td>\n",
       "      <td>0.857286</td>\n",
       "    </tr>\n",
       "    <tr>\n",
       "      <th>2.0</th>\n",
       "      <td>0.356937</td>\n",
       "      <td>0.610584</td>\n",
       "      <td>0.800900</td>\n",
       "      <td>0.644175</td>\n",
       "    </tr>\n",
       "    <tr>\n",
       "      <th>4.0</th>\n",
       "      <td>0.969323</td>\n",
       "      <td>0.838376</td>\n",
       "      <td>0.833147</td>\n",
       "      <td>0.344653</td>\n",
       "    </tr>\n",
       "    <tr>\n",
       "      <th>6.0</th>\n",
       "      <td>0.679542</td>\n",
       "      <td>0.733611</td>\n",
       "      <td>0.457639</td>\n",
       "      <td>0.527639</td>\n",
       "    </tr>\n",
       "    <tr>\n",
       "      <th>mean</th>\n",
       "      <td>0.641965</td>\n",
       "      <td>0.707621</td>\n",
       "      <td>0.671280</td>\n",
       "      <td>0.593438</td>\n",
       "    </tr>\n",
       "  </tbody>\n",
       "</table>\n",
       "</div>"
      ],
      "text/plain": [
       "           FAN    SLIDER      PUMP     VALVE\n",
       "0.0   0.562056  0.647912  0.593434  0.857286\n",
       "2.0   0.356937  0.610584  0.800900  0.644175\n",
       "4.0   0.969323  0.838376  0.833147  0.344653\n",
       "6.0   0.679542  0.733611  0.457639  0.527639\n",
       "mean  0.641965  0.707621  0.671280  0.593438"
      ]
     },
     "execution_count": 38,
     "metadata": {},
     "output_type": "execute_result"
    }
   ],
   "source": [
    "df"
   ]
  },
  {
   "cell_type": "code",
   "execution_count": 39,
   "metadata": {},
   "outputs": [
    {
     "ename": "TypeError",
     "evalue": "'NoneType' object is not callable",
     "output_type": "error",
     "traceback": [
      "\u001b[0;31m---------------------------------------------------------------------------\u001b[0m",
      "\u001b[0;31mTypeError\u001b[0m                                 Traceback (most recent call last)",
      "\u001b[0;32m<ipython-input-39-926e61d83fe6>\u001b[0m in \u001b[0;36m<module>\u001b[0;34m\u001b[0m\n\u001b[0;32m----> 1\u001b[0;31m \u001b[0mdf\u001b[0m\u001b[0;34m.\u001b[0m\u001b[0mindex\u001b[0m\u001b[0;34m.\u001b[0m\u001b[0mname\u001b[0m\u001b[0;34m(\u001b[0m\u001b[0;34m'Machine ID'\u001b[0m\u001b[0;34m)\u001b[0m\u001b[0;34m\u001b[0m\u001b[0;34m\u001b[0m\u001b[0m\n\u001b[0m",
      "\u001b[0;31mTypeError\u001b[0m: 'NoneType' object is not callable"
     ]
    }
   ],
   "source": [
    "df.index.name('Machine ID')"
   ]
  },
  {
   "cell_type": "code",
   "execution_count": 40,
   "metadata": {},
   "outputs": [],
   "source": [
    "cm = sns.light_palette(\"lightgreen\", as_cmap=True)"
   ]
  },
  {
   "cell_type": "code",
   "execution_count": 16,
   "metadata": {},
   "outputs": [],
   "source": [
    "def hover(hover_color=\"#ffff99\"):\n",
    "    return dict(selector=\"tr:hover\",\n",
    "                props=[(\"background-color\", \"%s\" % hover_color)])"
   ]
  },
  {
   "cell_type": "code",
   "execution_count": 22,
   "metadata": {},
   "outputs": [],
   "source": [
    "styles = [\n",
    "    hover(),\n",
    "    dict(selector=\"th\", props=[(\"font-size\", \"150%\"),\n",
    "                               (\"text-align\", \"center\")]),\n",
    "    dict(selector=\"caption\", props=[(\"caption-side\", \"bottom\")])\n",
    "]\n",
    "table = (df.style.set_table_styles(styles).background_gradient(cmap=cm, axis = None, vmin = 0.6, vmax = 1))"
   ]
  },
  {
   "cell_type": "code",
   "execution_count": 23,
   "metadata": {},
   "outputs": [
    {
     "data": {
      "text/html": [
       "<style  type=\"text/css\" >\n",
       "    #T_82905390_69f8_11eb_a0b7_ef7814378f67 tr:hover {\n",
       "          background-color: #ffff99;\n",
       "    }    #T_82905390_69f8_11eb_a0b7_ef7814378f67 th {\n",
       "          font-size: 150%;\n",
       "          text-align: center;\n",
       "    }    #T_82905390_69f8_11eb_a0b7_ef7814378f67 caption {\n",
       "          caption-side: bottom;\n",
       "    }#T_82905390_69f8_11eb_a0b7_ef7814378f67row0_col0,#T_82905390_69f8_11eb_a0b7_ef7814378f67row0_col2,#T_82905390_69f8_11eb_a0b7_ef7814378f67row1_col0,#T_82905390_69f8_11eb_a0b7_ef7814378f67row2_col3,#T_82905390_69f8_11eb_a0b7_ef7814378f67row3_col2,#T_82905390_69f8_11eb_a0b7_ef7814378f67row3_col3,#T_82905390_69f8_11eb_a0b7_ef7814378f67row4_col3{\n",
       "            background-color:  #edf2ed;\n",
       "            color:  #000000;\n",
       "        }#T_82905390_69f8_11eb_a0b7_ef7814378f67row0_col1{\n",
       "            background-color:  #e2f1e2;\n",
       "            color:  #000000;\n",
       "        }#T_82905390_69f8_11eb_a0b7_ef7814378f67row0_col3{\n",
       "            background-color:  #b1efb1;\n",
       "            color:  #000000;\n",
       "        }#T_82905390_69f8_11eb_a0b7_ef7814378f67row1_col1{\n",
       "            background-color:  #ebf2eb;\n",
       "            color:  #000000;\n",
       "        }#T_82905390_69f8_11eb_a0b7_ef7814378f67row1_col2{\n",
       "            background-color:  #bef0be;\n",
       "            color:  #000000;\n",
       "        }#T_82905390_69f8_11eb_a0b7_ef7814378f67row1_col3{\n",
       "            background-color:  #e3f1e3;\n",
       "            color:  #000000;\n",
       "        }#T_82905390_69f8_11eb_a0b7_ef7814378f67row2_col0{\n",
       "            background-color:  #97ee97;\n",
       "            color:  #000000;\n",
       "        }#T_82905390_69f8_11eb_a0b7_ef7814378f67row2_col1{\n",
       "            background-color:  #b6f0b6;\n",
       "            color:  #000000;\n",
       "        }#T_82905390_69f8_11eb_a0b7_ef7814378f67row2_col2{\n",
       "            background-color:  #b7f0b7;\n",
       "            color:  #000000;\n",
       "        }#T_82905390_69f8_11eb_a0b7_ef7814378f67row3_col0{\n",
       "            background-color:  #dbf1db;\n",
       "            color:  #000000;\n",
       "        }#T_82905390_69f8_11eb_a0b7_ef7814378f67row3_col1{\n",
       "            background-color:  #cef1ce;\n",
       "            color:  #000000;\n",
       "        }#T_82905390_69f8_11eb_a0b7_ef7814378f67row4_col0{\n",
       "            background-color:  #e4f2e4;\n",
       "            color:  #000000;\n",
       "        }#T_82905390_69f8_11eb_a0b7_ef7814378f67row4_col1{\n",
       "            background-color:  #d4f1d4;\n",
       "            color:  #000000;\n",
       "        }#T_82905390_69f8_11eb_a0b7_ef7814378f67row4_col2{\n",
       "            background-color:  #ddf1dd;\n",
       "            color:  #000000;\n",
       "        }</style><table id=\"T_82905390_69f8_11eb_a0b7_ef7814378f67\" ><thead>    <tr>        <th class=\"blank level0\" ></th>        <th class=\"col_heading level0 col0\" >FAN</th>        <th class=\"col_heading level0 col1\" >SLIDER</th>        <th class=\"col_heading level0 col2\" >PUMP</th>        <th class=\"col_heading level0 col3\" >VALVE</th>    </tr></thead><tbody>\n",
       "                <tr>\n",
       "                        <th id=\"T_82905390_69f8_11eb_a0b7_ef7814378f67level0_row0\" class=\"row_heading level0 row0\" >0.0</th>\n",
       "                        <td id=\"T_82905390_69f8_11eb_a0b7_ef7814378f67row0_col0\" class=\"data row0 col0\" >0.562056</td>\n",
       "                        <td id=\"T_82905390_69f8_11eb_a0b7_ef7814378f67row0_col1\" class=\"data row0 col1\" >0.647912</td>\n",
       "                        <td id=\"T_82905390_69f8_11eb_a0b7_ef7814378f67row0_col2\" class=\"data row0 col2\" >0.593434</td>\n",
       "                        <td id=\"T_82905390_69f8_11eb_a0b7_ef7814378f67row0_col3\" class=\"data row0 col3\" >0.857286</td>\n",
       "            </tr>\n",
       "            <tr>\n",
       "                        <th id=\"T_82905390_69f8_11eb_a0b7_ef7814378f67level0_row1\" class=\"row_heading level0 row1\" >2.0</th>\n",
       "                        <td id=\"T_82905390_69f8_11eb_a0b7_ef7814378f67row1_col0\" class=\"data row1 col0\" >0.356937</td>\n",
       "                        <td id=\"T_82905390_69f8_11eb_a0b7_ef7814378f67row1_col1\" class=\"data row1 col1\" >0.610584</td>\n",
       "                        <td id=\"T_82905390_69f8_11eb_a0b7_ef7814378f67row1_col2\" class=\"data row1 col2\" >0.800900</td>\n",
       "                        <td id=\"T_82905390_69f8_11eb_a0b7_ef7814378f67row1_col3\" class=\"data row1 col3\" >0.644175</td>\n",
       "            </tr>\n",
       "            <tr>\n",
       "                        <th id=\"T_82905390_69f8_11eb_a0b7_ef7814378f67level0_row2\" class=\"row_heading level0 row2\" >4.0</th>\n",
       "                        <td id=\"T_82905390_69f8_11eb_a0b7_ef7814378f67row2_col0\" class=\"data row2 col0\" >0.969323</td>\n",
       "                        <td id=\"T_82905390_69f8_11eb_a0b7_ef7814378f67row2_col1\" class=\"data row2 col1\" >0.838376</td>\n",
       "                        <td id=\"T_82905390_69f8_11eb_a0b7_ef7814378f67row2_col2\" class=\"data row2 col2\" >0.833147</td>\n",
       "                        <td id=\"T_82905390_69f8_11eb_a0b7_ef7814378f67row2_col3\" class=\"data row2 col3\" >0.344653</td>\n",
       "            </tr>\n",
       "            <tr>\n",
       "                        <th id=\"T_82905390_69f8_11eb_a0b7_ef7814378f67level0_row3\" class=\"row_heading level0 row3\" >6.0</th>\n",
       "                        <td id=\"T_82905390_69f8_11eb_a0b7_ef7814378f67row3_col0\" class=\"data row3 col0\" >0.679542</td>\n",
       "                        <td id=\"T_82905390_69f8_11eb_a0b7_ef7814378f67row3_col1\" class=\"data row3 col1\" >0.733611</td>\n",
       "                        <td id=\"T_82905390_69f8_11eb_a0b7_ef7814378f67row3_col2\" class=\"data row3 col2\" >0.457639</td>\n",
       "                        <td id=\"T_82905390_69f8_11eb_a0b7_ef7814378f67row3_col3\" class=\"data row3 col3\" >0.527639</td>\n",
       "            </tr>\n",
       "            <tr>\n",
       "                        <th id=\"T_82905390_69f8_11eb_a0b7_ef7814378f67level0_row4\" class=\"row_heading level0 row4\" >mean</th>\n",
       "                        <td id=\"T_82905390_69f8_11eb_a0b7_ef7814378f67row4_col0\" class=\"data row4 col0\" >0.641965</td>\n",
       "                        <td id=\"T_82905390_69f8_11eb_a0b7_ef7814378f67row4_col1\" class=\"data row4 col1\" >0.707621</td>\n",
       "                        <td id=\"T_82905390_69f8_11eb_a0b7_ef7814378f67row4_col2\" class=\"data row4 col2\" >0.671280</td>\n",
       "                        <td id=\"T_82905390_69f8_11eb_a0b7_ef7814378f67row4_col3\" class=\"data row4 col3\" >0.593438</td>\n",
       "            </tr>\n",
       "    </tbody></table>"
      ],
      "text/plain": [
       "<pandas.io.formats.style.Styler at 0x7f3b0b04dfd0>"
      ]
     },
     "execution_count": 23,
     "metadata": {},
     "output_type": "execute_result"
    }
   ],
   "source": [
    "table"
   ]
  },
  {
   "cell_type": "code",
   "execution_count": 25,
   "metadata": {},
   "outputs": [
    {
     "ename": "TypeError",
     "evalue": "'NoneType' object is not callable",
     "output_type": "error",
     "traceback": [
      "\u001b[0;31m---------------------------------------------------------------------------\u001b[0m",
      "\u001b[0;31mTypeError\u001b[0m                                 Traceback (most recent call last)",
      "\u001b[0;32m<ipython-input-25-926e61d83fe6>\u001b[0m in \u001b[0;36m<module>\u001b[0;34m\u001b[0m\n\u001b[0;32m----> 1\u001b[0;31m \u001b[0mdf\u001b[0m\u001b[0;34m.\u001b[0m\u001b[0mindex\u001b[0m\u001b[0;34m.\u001b[0m\u001b[0mname\u001b[0m\u001b[0;34m(\u001b[0m\u001b[0;34m'Machine ID'\u001b[0m\u001b[0;34m)\u001b[0m\u001b[0;34m\u001b[0m\u001b[0;34m\u001b[0m\u001b[0m\n\u001b[0m",
      "\u001b[0;31mTypeError\u001b[0m: 'NoneType' object is not callable"
     ]
    }
   ],
   "source": [
    "df.index.name('Machine ID')"
   ]
  },
  {
   "cell_type": "code",
   "execution_count": null,
   "metadata": {},
   "outputs": [],
   "source": []
  }
 ],
 "metadata": {
  "kernelspec": {
   "display_name": "Python 3",
   "language": "python",
   "name": "python3"
  },
  "language_info": {
   "codemirror_mode": {
    "name": "ipython",
    "version": 3
   },
   "file_extension": ".py",
   "mimetype": "text/x-python",
   "name": "python",
   "nbconvert_exporter": "python",
   "pygments_lexer": "ipython3",
   "version": "3.8.5"
  }
 },
 "nbformat": 4,
 "nbformat_minor": 4
}
